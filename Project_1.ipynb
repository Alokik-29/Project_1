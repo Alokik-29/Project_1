{
  "nbformat": 4,
  "nbformat_minor": 0,
  "metadata": {
    "colab": {
      "provenance": [],
      "gpuType": "T4",
      "authorship_tag": "ABX9TyP2XhHfkveyDpiAzbM6FAk2",
      "include_colab_link": true
    },
    "kernelspec": {
      "name": "python3",
      "display_name": "Python 3"
    },
    "language_info": {
      "name": "python"
    },
    "accelerator": "GPU",
    "widgets": {
      "application/vnd.jupyter.widget-state+json": {
        "8c7b8145ecfe446b9181e8b9217d9551": {
          "model_module": "@jupyter-widgets/controls",
          "model_name": "HBoxModel",
          "model_module_version": "1.5.0",
          "state": {
            "_dom_classes": [],
            "_model_module": "@jupyter-widgets/controls",
            "_model_module_version": "1.5.0",
            "_model_name": "HBoxModel",
            "_view_count": null,
            "_view_module": "@jupyter-widgets/controls",
            "_view_module_version": "1.5.0",
            "_view_name": "HBoxView",
            "box_style": "",
            "children": [
              "IPY_MODEL_29848e75251b4d27b745838bb52ba492",
              "IPY_MODEL_529e0756b8a14a179ee7b49f64e1673a",
              "IPY_MODEL_e5ab817c55bc40a3b26304dbeb8f19a4"
            ],
            "layout": "IPY_MODEL_a5ebc76746bc4c598baac76ff6e95502"
          }
        },
        "29848e75251b4d27b745838bb52ba492": {
          "model_module": "@jupyter-widgets/controls",
          "model_name": "HTMLModel",
          "model_module_version": "1.5.0",
          "state": {
            "_dom_classes": [],
            "_model_module": "@jupyter-widgets/controls",
            "_model_module_version": "1.5.0",
            "_model_name": "HTMLModel",
            "_view_count": null,
            "_view_module": "@jupyter-widgets/controls",
            "_view_module_version": "1.5.0",
            "_view_name": "HTMLView",
            "description": "",
            "description_tooltip": null,
            "layout": "IPY_MODEL_97661a09ec3d4645bf4cb428d6c001e8",
            "placeholder": "​",
            "style": "IPY_MODEL_5ebd1fe42a644639b8af8882b779a969",
            "value": "preprocessor_config.json: 100%"
          }
        },
        "529e0756b8a14a179ee7b49f64e1673a": {
          "model_module": "@jupyter-widgets/controls",
          "model_name": "FloatProgressModel",
          "model_module_version": "1.5.0",
          "state": {
            "_dom_classes": [],
            "_model_module": "@jupyter-widgets/controls",
            "_model_module_version": "1.5.0",
            "_model_name": "FloatProgressModel",
            "_view_count": null,
            "_view_module": "@jupyter-widgets/controls",
            "_view_module_version": "1.5.0",
            "_view_name": "ProgressView",
            "bar_style": "success",
            "description": "",
            "description_tooltip": null,
            "layout": "IPY_MODEL_34ec316d0d8247e5b5c308521de3d415",
            "max": 297,
            "min": 0,
            "orientation": "horizontal",
            "style": "IPY_MODEL_d307a814ce9e4b8780ae35b081652d32",
            "value": 297
          }
        },
        "e5ab817c55bc40a3b26304dbeb8f19a4": {
          "model_module": "@jupyter-widgets/controls",
          "model_name": "HTMLModel",
          "model_module_version": "1.5.0",
          "state": {
            "_dom_classes": [],
            "_model_module": "@jupyter-widgets/controls",
            "_model_module_version": "1.5.0",
            "_model_name": "HTMLModel",
            "_view_count": null,
            "_view_module": "@jupyter-widgets/controls",
            "_view_module_version": "1.5.0",
            "_view_name": "HTMLView",
            "description": "",
            "description_tooltip": null,
            "layout": "IPY_MODEL_5f140538e1744909ba7938aed0c44c02",
            "placeholder": "​",
            "style": "IPY_MODEL_48d39073b36e469db2927ecc9c2c1f39",
            "value": " 297/297 [00:00&lt;00:00, 27.1kB/s]"
          }
        },
        "a5ebc76746bc4c598baac76ff6e95502": {
          "model_module": "@jupyter-widgets/base",
          "model_name": "LayoutModel",
          "model_module_version": "1.2.0",
          "state": {
            "_model_module": "@jupyter-widgets/base",
            "_model_module_version": "1.2.0",
            "_model_name": "LayoutModel",
            "_view_count": null,
            "_view_module": "@jupyter-widgets/base",
            "_view_module_version": "1.2.0",
            "_view_name": "LayoutView",
            "align_content": null,
            "align_items": null,
            "align_self": null,
            "border": null,
            "bottom": null,
            "display": null,
            "flex": null,
            "flex_flow": null,
            "grid_area": null,
            "grid_auto_columns": null,
            "grid_auto_flow": null,
            "grid_auto_rows": null,
            "grid_column": null,
            "grid_gap": null,
            "grid_row": null,
            "grid_template_areas": null,
            "grid_template_columns": null,
            "grid_template_rows": null,
            "height": null,
            "justify_content": null,
            "justify_items": null,
            "left": null,
            "margin": null,
            "max_height": null,
            "max_width": null,
            "min_height": null,
            "min_width": null,
            "object_fit": null,
            "object_position": null,
            "order": null,
            "overflow": null,
            "overflow_x": null,
            "overflow_y": null,
            "padding": null,
            "right": null,
            "top": null,
            "visibility": null,
            "width": null
          }
        },
        "97661a09ec3d4645bf4cb428d6c001e8": {
          "model_module": "@jupyter-widgets/base",
          "model_name": "LayoutModel",
          "model_module_version": "1.2.0",
          "state": {
            "_model_module": "@jupyter-widgets/base",
            "_model_module_version": "1.2.0",
            "_model_name": "LayoutModel",
            "_view_count": null,
            "_view_module": "@jupyter-widgets/base",
            "_view_module_version": "1.2.0",
            "_view_name": "LayoutView",
            "align_content": null,
            "align_items": null,
            "align_self": null,
            "border": null,
            "bottom": null,
            "display": null,
            "flex": null,
            "flex_flow": null,
            "grid_area": null,
            "grid_auto_columns": null,
            "grid_auto_flow": null,
            "grid_auto_rows": null,
            "grid_column": null,
            "grid_gap": null,
            "grid_row": null,
            "grid_template_areas": null,
            "grid_template_columns": null,
            "grid_template_rows": null,
            "height": null,
            "justify_content": null,
            "justify_items": null,
            "left": null,
            "margin": null,
            "max_height": null,
            "max_width": null,
            "min_height": null,
            "min_width": null,
            "object_fit": null,
            "object_position": null,
            "order": null,
            "overflow": null,
            "overflow_x": null,
            "overflow_y": null,
            "padding": null,
            "right": null,
            "top": null,
            "visibility": null,
            "width": null
          }
        },
        "5ebd1fe42a644639b8af8882b779a969": {
          "model_module": "@jupyter-widgets/controls",
          "model_name": "DescriptionStyleModel",
          "model_module_version": "1.5.0",
          "state": {
            "_model_module": "@jupyter-widgets/controls",
            "_model_module_version": "1.5.0",
            "_model_name": "DescriptionStyleModel",
            "_view_count": null,
            "_view_module": "@jupyter-widgets/base",
            "_view_module_version": "1.2.0",
            "_view_name": "StyleView",
            "description_width": ""
          }
        },
        "34ec316d0d8247e5b5c308521de3d415": {
          "model_module": "@jupyter-widgets/base",
          "model_name": "LayoutModel",
          "model_module_version": "1.2.0",
          "state": {
            "_model_module": "@jupyter-widgets/base",
            "_model_module_version": "1.2.0",
            "_model_name": "LayoutModel",
            "_view_count": null,
            "_view_module": "@jupyter-widgets/base",
            "_view_module_version": "1.2.0",
            "_view_name": "LayoutView",
            "align_content": null,
            "align_items": null,
            "align_self": null,
            "border": null,
            "bottom": null,
            "display": null,
            "flex": null,
            "flex_flow": null,
            "grid_area": null,
            "grid_auto_columns": null,
            "grid_auto_flow": null,
            "grid_auto_rows": null,
            "grid_column": null,
            "grid_gap": null,
            "grid_row": null,
            "grid_template_areas": null,
            "grid_template_columns": null,
            "grid_template_rows": null,
            "height": null,
            "justify_content": null,
            "justify_items": null,
            "left": null,
            "margin": null,
            "max_height": null,
            "max_width": null,
            "min_height": null,
            "min_width": null,
            "object_fit": null,
            "object_position": null,
            "order": null,
            "overflow": null,
            "overflow_x": null,
            "overflow_y": null,
            "padding": null,
            "right": null,
            "top": null,
            "visibility": null,
            "width": null
          }
        },
        "d307a814ce9e4b8780ae35b081652d32": {
          "model_module": "@jupyter-widgets/controls",
          "model_name": "ProgressStyleModel",
          "model_module_version": "1.5.0",
          "state": {
            "_model_module": "@jupyter-widgets/controls",
            "_model_module_version": "1.5.0",
            "_model_name": "ProgressStyleModel",
            "_view_count": null,
            "_view_module": "@jupyter-widgets/base",
            "_view_module_version": "1.2.0",
            "_view_name": "StyleView",
            "bar_color": null,
            "description_width": ""
          }
        },
        "5f140538e1744909ba7938aed0c44c02": {
          "model_module": "@jupyter-widgets/base",
          "model_name": "LayoutModel",
          "model_module_version": "1.2.0",
          "state": {
            "_model_module": "@jupyter-widgets/base",
            "_model_module_version": "1.2.0",
            "_model_name": "LayoutModel",
            "_view_count": null,
            "_view_module": "@jupyter-widgets/base",
            "_view_module_version": "1.2.0",
            "_view_name": "LayoutView",
            "align_content": null,
            "align_items": null,
            "align_self": null,
            "border": null,
            "bottom": null,
            "display": null,
            "flex": null,
            "flex_flow": null,
            "grid_area": null,
            "grid_auto_columns": null,
            "grid_auto_flow": null,
            "grid_auto_rows": null,
            "grid_column": null,
            "grid_gap": null,
            "grid_row": null,
            "grid_template_areas": null,
            "grid_template_columns": null,
            "grid_template_rows": null,
            "height": null,
            "justify_content": null,
            "justify_items": null,
            "left": null,
            "margin": null,
            "max_height": null,
            "max_width": null,
            "min_height": null,
            "min_width": null,
            "object_fit": null,
            "object_position": null,
            "order": null,
            "overflow": null,
            "overflow_x": null,
            "overflow_y": null,
            "padding": null,
            "right": null,
            "top": null,
            "visibility": null,
            "width": null
          }
        },
        "48d39073b36e469db2927ecc9c2c1f39": {
          "model_module": "@jupyter-widgets/controls",
          "model_name": "DescriptionStyleModel",
          "model_module_version": "1.5.0",
          "state": {
            "_model_module": "@jupyter-widgets/controls",
            "_model_module_version": "1.5.0",
            "_model_name": "DescriptionStyleModel",
            "_view_count": null,
            "_view_module": "@jupyter-widgets/base",
            "_view_module_version": "1.2.0",
            "_view_name": "StyleView",
            "description_width": ""
          }
        },
        "1b262c27b8a341a88171eb4b719838fe": {
          "model_module": "@jupyter-widgets/controls",
          "model_name": "HBoxModel",
          "model_module_version": "1.5.0",
          "state": {
            "_dom_classes": [],
            "_model_module": "@jupyter-widgets/controls",
            "_model_module_version": "1.5.0",
            "_model_name": "HBoxModel",
            "_view_count": null,
            "_view_module": "@jupyter-widgets/controls",
            "_view_module_version": "1.5.0",
            "_view_name": "HBoxView",
            "box_style": "",
            "children": [
              "IPY_MODEL_a47b9b0a15df48a88e0ae66dc012444c",
              "IPY_MODEL_bf41f5f6139c4572a6bb31e7c760b7e0",
              "IPY_MODEL_4a97d1261ade40f0be18349eb5b5a4be"
            ],
            "layout": "IPY_MODEL_ffcfd126e8f44897a484c45eb3eecdc1"
          }
        },
        "a47b9b0a15df48a88e0ae66dc012444c": {
          "model_module": "@jupyter-widgets/controls",
          "model_name": "HTMLModel",
          "model_module_version": "1.5.0",
          "state": {
            "_dom_classes": [],
            "_model_module": "@jupyter-widgets/controls",
            "_model_module_version": "1.5.0",
            "_model_name": "HTMLModel",
            "_view_count": null,
            "_view_module": "@jupyter-widgets/controls",
            "_view_module_version": "1.5.0",
            "_view_name": "HTMLView",
            "description": "",
            "description_tooltip": null,
            "layout": "IPY_MODEL_403f4a09ac6b4eb8a2e0695719cfad11",
            "placeholder": "​",
            "style": "IPY_MODEL_f02051529b324bdeac637b1d43c5cb7e",
            "value": "config.json: "
          }
        },
        "bf41f5f6139c4572a6bb31e7c760b7e0": {
          "model_module": "@jupyter-widgets/controls",
          "model_name": "FloatProgressModel",
          "model_module_version": "1.5.0",
          "state": {
            "_dom_classes": [],
            "_model_module": "@jupyter-widgets/controls",
            "_model_module_version": "1.5.0",
            "_model_name": "FloatProgressModel",
            "_view_count": null,
            "_view_module": "@jupyter-widgets/controls",
            "_view_module_version": "1.5.0",
            "_view_name": "ProgressView",
            "bar_style": "success",
            "description": "",
            "description_tooltip": null,
            "layout": "IPY_MODEL_9f1426a6146a4573a9a7f99d4213b62d",
            "max": 1,
            "min": 0,
            "orientation": "horizontal",
            "style": "IPY_MODEL_31a679a3539a485f8e264b08cb1d9ea9",
            "value": 1
          }
        },
        "4a97d1261ade40f0be18349eb5b5a4be": {
          "model_module": "@jupyter-widgets/controls",
          "model_name": "HTMLModel",
          "model_module_version": "1.5.0",
          "state": {
            "_dom_classes": [],
            "_model_module": "@jupyter-widgets/controls",
            "_model_module_version": "1.5.0",
            "_model_name": "HTMLModel",
            "_view_count": null,
            "_view_module": "@jupyter-widgets/controls",
            "_view_module_version": "1.5.0",
            "_view_name": "HTMLView",
            "description": "",
            "description_tooltip": null,
            "layout": "IPY_MODEL_d2ce21c88dba4eef85e817bf92bc09a0",
            "placeholder": "​",
            "style": "IPY_MODEL_439212c67804403bb7db04001f8208a3",
            "value": " 26.8k/? [00:00&lt;00:00, 2.66MB/s]"
          }
        },
        "ffcfd126e8f44897a484c45eb3eecdc1": {
          "model_module": "@jupyter-widgets/base",
          "model_name": "LayoutModel",
          "model_module_version": "1.2.0",
          "state": {
            "_model_module": "@jupyter-widgets/base",
            "_model_module_version": "1.2.0",
            "_model_name": "LayoutModel",
            "_view_count": null,
            "_view_module": "@jupyter-widgets/base",
            "_view_module_version": "1.2.0",
            "_view_name": "LayoutView",
            "align_content": null,
            "align_items": null,
            "align_self": null,
            "border": null,
            "bottom": null,
            "display": null,
            "flex": null,
            "flex_flow": null,
            "grid_area": null,
            "grid_auto_columns": null,
            "grid_auto_flow": null,
            "grid_auto_rows": null,
            "grid_column": null,
            "grid_gap": null,
            "grid_row": null,
            "grid_template_areas": null,
            "grid_template_columns": null,
            "grid_template_rows": null,
            "height": null,
            "justify_content": null,
            "justify_items": null,
            "left": null,
            "margin": null,
            "max_height": null,
            "max_width": null,
            "min_height": null,
            "min_width": null,
            "object_fit": null,
            "object_position": null,
            "order": null,
            "overflow": null,
            "overflow_x": null,
            "overflow_y": null,
            "padding": null,
            "right": null,
            "top": null,
            "visibility": null,
            "width": null
          }
        },
        "403f4a09ac6b4eb8a2e0695719cfad11": {
          "model_module": "@jupyter-widgets/base",
          "model_name": "LayoutModel",
          "model_module_version": "1.2.0",
          "state": {
            "_model_module": "@jupyter-widgets/base",
            "_model_module_version": "1.2.0",
            "_model_name": "LayoutModel",
            "_view_count": null,
            "_view_module": "@jupyter-widgets/base",
            "_view_module_version": "1.2.0",
            "_view_name": "LayoutView",
            "align_content": null,
            "align_items": null,
            "align_self": null,
            "border": null,
            "bottom": null,
            "display": null,
            "flex": null,
            "flex_flow": null,
            "grid_area": null,
            "grid_auto_columns": null,
            "grid_auto_flow": null,
            "grid_auto_rows": null,
            "grid_column": null,
            "grid_gap": null,
            "grid_row": null,
            "grid_template_areas": null,
            "grid_template_columns": null,
            "grid_template_rows": null,
            "height": null,
            "justify_content": null,
            "justify_items": null,
            "left": null,
            "margin": null,
            "max_height": null,
            "max_width": null,
            "min_height": null,
            "min_width": null,
            "object_fit": null,
            "object_position": null,
            "order": null,
            "overflow": null,
            "overflow_x": null,
            "overflow_y": null,
            "padding": null,
            "right": null,
            "top": null,
            "visibility": null,
            "width": null
          }
        },
        "f02051529b324bdeac637b1d43c5cb7e": {
          "model_module": "@jupyter-widgets/controls",
          "model_name": "DescriptionStyleModel",
          "model_module_version": "1.5.0",
          "state": {
            "_model_module": "@jupyter-widgets/controls",
            "_model_module_version": "1.5.0",
            "_model_name": "DescriptionStyleModel",
            "_view_count": null,
            "_view_module": "@jupyter-widgets/base",
            "_view_module_version": "1.2.0",
            "_view_name": "StyleView",
            "description_width": ""
          }
        },
        "9f1426a6146a4573a9a7f99d4213b62d": {
          "model_module": "@jupyter-widgets/base",
          "model_name": "LayoutModel",
          "model_module_version": "1.2.0",
          "state": {
            "_model_module": "@jupyter-widgets/base",
            "_model_module_version": "1.2.0",
            "_model_name": "LayoutModel",
            "_view_count": null,
            "_view_module": "@jupyter-widgets/base",
            "_view_module_version": "1.2.0",
            "_view_name": "LayoutView",
            "align_content": null,
            "align_items": null,
            "align_self": null,
            "border": null,
            "bottom": null,
            "display": null,
            "flex": null,
            "flex_flow": null,
            "grid_area": null,
            "grid_auto_columns": null,
            "grid_auto_flow": null,
            "grid_auto_rows": null,
            "grid_column": null,
            "grid_gap": null,
            "grid_row": null,
            "grid_template_areas": null,
            "grid_template_columns": null,
            "grid_template_rows": null,
            "height": null,
            "justify_content": null,
            "justify_items": null,
            "left": null,
            "margin": null,
            "max_height": null,
            "max_width": null,
            "min_height": null,
            "min_width": null,
            "object_fit": null,
            "object_position": null,
            "order": null,
            "overflow": null,
            "overflow_x": null,
            "overflow_y": null,
            "padding": null,
            "right": null,
            "top": null,
            "visibility": null,
            "width": "20px"
          }
        },
        "31a679a3539a485f8e264b08cb1d9ea9": {
          "model_module": "@jupyter-widgets/controls",
          "model_name": "ProgressStyleModel",
          "model_module_version": "1.5.0",
          "state": {
            "_model_module": "@jupyter-widgets/controls",
            "_model_module_version": "1.5.0",
            "_model_name": "ProgressStyleModel",
            "_view_count": null,
            "_view_module": "@jupyter-widgets/base",
            "_view_module_version": "1.2.0",
            "_view_name": "StyleView",
            "bar_color": null,
            "description_width": ""
          }
        },
        "d2ce21c88dba4eef85e817bf92bc09a0": {
          "model_module": "@jupyter-widgets/base",
          "model_name": "LayoutModel",
          "model_module_version": "1.2.0",
          "state": {
            "_model_module": "@jupyter-widgets/base",
            "_model_module_version": "1.2.0",
            "_model_name": "LayoutModel",
            "_view_count": null,
            "_view_module": "@jupyter-widgets/base",
            "_view_module_version": "1.2.0",
            "_view_name": "LayoutView",
            "align_content": null,
            "align_items": null,
            "align_self": null,
            "border": null,
            "bottom": null,
            "display": null,
            "flex": null,
            "flex_flow": null,
            "grid_area": null,
            "grid_auto_columns": null,
            "grid_auto_flow": null,
            "grid_auto_rows": null,
            "grid_column": null,
            "grid_gap": null,
            "grid_row": null,
            "grid_template_areas": null,
            "grid_template_columns": null,
            "grid_template_rows": null,
            "height": null,
            "justify_content": null,
            "justify_items": null,
            "left": null,
            "margin": null,
            "max_height": null,
            "max_width": null,
            "min_height": null,
            "min_width": null,
            "object_fit": null,
            "object_position": null,
            "order": null,
            "overflow": null,
            "overflow_x": null,
            "overflow_y": null,
            "padding": null,
            "right": null,
            "top": null,
            "visibility": null,
            "width": null
          }
        },
        "439212c67804403bb7db04001f8208a3": {
          "model_module": "@jupyter-widgets/controls",
          "model_name": "DescriptionStyleModel",
          "model_module_version": "1.5.0",
          "state": {
            "_model_module": "@jupyter-widgets/controls",
            "_model_module_version": "1.5.0",
            "_model_name": "DescriptionStyleModel",
            "_view_count": null,
            "_view_module": "@jupyter-widgets/base",
            "_view_module_version": "1.2.0",
            "_view_name": "StyleView",
            "description_width": ""
          }
        },
        "c94ff398bee046d6b4f585068ea8bc78": {
          "model_module": "@jupyter-widgets/controls",
          "model_name": "HBoxModel",
          "model_module_version": "1.5.0",
          "state": {
            "_dom_classes": [],
            "_model_module": "@jupyter-widgets/controls",
            "_model_module_version": "1.5.0",
            "_model_name": "HBoxModel",
            "_view_count": null,
            "_view_module": "@jupyter-widgets/controls",
            "_view_module_version": "1.5.0",
            "_view_name": "HBoxView",
            "box_style": "",
            "children": [
              "IPY_MODEL_ed2c4ff884a8467886e1e7ed5ea88a61",
              "IPY_MODEL_4d7967bda60940b6a3473a0af8bc8ed1",
              "IPY_MODEL_31e4376a3bf743978e74a993b3b7b4cc"
            ],
            "layout": "IPY_MODEL_cb952e40db6d44b68e91dca954258f2f"
          }
        },
        "ed2c4ff884a8467886e1e7ed5ea88a61": {
          "model_module": "@jupyter-widgets/controls",
          "model_name": "HTMLModel",
          "model_module_version": "1.5.0",
          "state": {
            "_dom_classes": [],
            "_model_module": "@jupyter-widgets/controls",
            "_model_module_version": "1.5.0",
            "_model_name": "HTMLModel",
            "_view_count": null,
            "_view_module": "@jupyter-widgets/controls",
            "_view_module_version": "1.5.0",
            "_view_name": "HTMLView",
            "description": "",
            "description_tooltip": null,
            "layout": "IPY_MODEL_2cf587603e5b4894b33ee0f79372dd68",
            "placeholder": "​",
            "style": "IPY_MODEL_f2102882aea148c5b26f6f5bad7668d0",
            "value": "model.safetensors: 100%"
          }
        },
        "4d7967bda60940b6a3473a0af8bc8ed1": {
          "model_module": "@jupyter-widgets/controls",
          "model_name": "FloatProgressModel",
          "model_module_version": "1.5.0",
          "state": {
            "_dom_classes": [],
            "_model_module": "@jupyter-widgets/controls",
            "_model_module_version": "1.5.0",
            "_model_name": "FloatProgressModel",
            "_view_count": null,
            "_view_module": "@jupyter-widgets/controls",
            "_view_module_version": "1.5.0",
            "_view_name": "ProgressView",
            "bar_style": "success",
            "description": "",
            "description_tooltip": null,
            "layout": "IPY_MODEL_cb8111320c81419a9e936701f434fe82",
            "max": 346404948,
            "min": 0,
            "orientation": "horizontal",
            "style": "IPY_MODEL_c8e1636f73064ad9817fceda279978ec",
            "value": 346404948
          }
        },
        "31e4376a3bf743978e74a993b3b7b4cc": {
          "model_module": "@jupyter-widgets/controls",
          "model_name": "HTMLModel",
          "model_module_version": "1.5.0",
          "state": {
            "_dom_classes": [],
            "_model_module": "@jupyter-widgets/controls",
            "_model_module_version": "1.5.0",
            "_model_name": "HTMLModel",
            "_view_count": null,
            "_view_module": "@jupyter-widgets/controls",
            "_view_module_version": "1.5.0",
            "_view_name": "HTMLView",
            "description": "",
            "description_tooltip": null,
            "layout": "IPY_MODEL_fed4c5c6bf0742cd84f5f2e2a28aab54",
            "placeholder": "​",
            "style": "IPY_MODEL_727b6266340a41cdbead0b40c714480f",
            "value": " 346M/346M [00:05&lt;00:00, 61.6MB/s]"
          }
        },
        "cb952e40db6d44b68e91dca954258f2f": {
          "model_module": "@jupyter-widgets/base",
          "model_name": "LayoutModel",
          "model_module_version": "1.2.0",
          "state": {
            "_model_module": "@jupyter-widgets/base",
            "_model_module_version": "1.2.0",
            "_model_name": "LayoutModel",
            "_view_count": null,
            "_view_module": "@jupyter-widgets/base",
            "_view_module_version": "1.2.0",
            "_view_name": "LayoutView",
            "align_content": null,
            "align_items": null,
            "align_self": null,
            "border": null,
            "bottom": null,
            "display": null,
            "flex": null,
            "flex_flow": null,
            "grid_area": null,
            "grid_auto_columns": null,
            "grid_auto_flow": null,
            "grid_auto_rows": null,
            "grid_column": null,
            "grid_gap": null,
            "grid_row": null,
            "grid_template_areas": null,
            "grid_template_columns": null,
            "grid_template_rows": null,
            "height": null,
            "justify_content": null,
            "justify_items": null,
            "left": null,
            "margin": null,
            "max_height": null,
            "max_width": null,
            "min_height": null,
            "min_width": null,
            "object_fit": null,
            "object_position": null,
            "order": null,
            "overflow": null,
            "overflow_x": null,
            "overflow_y": null,
            "padding": null,
            "right": null,
            "top": null,
            "visibility": null,
            "width": null
          }
        },
        "2cf587603e5b4894b33ee0f79372dd68": {
          "model_module": "@jupyter-widgets/base",
          "model_name": "LayoutModel",
          "model_module_version": "1.2.0",
          "state": {
            "_model_module": "@jupyter-widgets/base",
            "_model_module_version": "1.2.0",
            "_model_name": "LayoutModel",
            "_view_count": null,
            "_view_module": "@jupyter-widgets/base",
            "_view_module_version": "1.2.0",
            "_view_name": "LayoutView",
            "align_content": null,
            "align_items": null,
            "align_self": null,
            "border": null,
            "bottom": null,
            "display": null,
            "flex": null,
            "flex_flow": null,
            "grid_area": null,
            "grid_auto_columns": null,
            "grid_auto_flow": null,
            "grid_auto_rows": null,
            "grid_column": null,
            "grid_gap": null,
            "grid_row": null,
            "grid_template_areas": null,
            "grid_template_columns": null,
            "grid_template_rows": null,
            "height": null,
            "justify_content": null,
            "justify_items": null,
            "left": null,
            "margin": null,
            "max_height": null,
            "max_width": null,
            "min_height": null,
            "min_width": null,
            "object_fit": null,
            "object_position": null,
            "order": null,
            "overflow": null,
            "overflow_x": null,
            "overflow_y": null,
            "padding": null,
            "right": null,
            "top": null,
            "visibility": null,
            "width": null
          }
        },
        "f2102882aea148c5b26f6f5bad7668d0": {
          "model_module": "@jupyter-widgets/controls",
          "model_name": "DescriptionStyleModel",
          "model_module_version": "1.5.0",
          "state": {
            "_model_module": "@jupyter-widgets/controls",
            "_model_module_version": "1.5.0",
            "_model_name": "DescriptionStyleModel",
            "_view_count": null,
            "_view_module": "@jupyter-widgets/base",
            "_view_module_version": "1.2.0",
            "_view_name": "StyleView",
            "description_width": ""
          }
        },
        "cb8111320c81419a9e936701f434fe82": {
          "model_module": "@jupyter-widgets/base",
          "model_name": "LayoutModel",
          "model_module_version": "1.2.0",
          "state": {
            "_model_module": "@jupyter-widgets/base",
            "_model_module_version": "1.2.0",
            "_model_name": "LayoutModel",
            "_view_count": null,
            "_view_module": "@jupyter-widgets/base",
            "_view_module_version": "1.2.0",
            "_view_name": "LayoutView",
            "align_content": null,
            "align_items": null,
            "align_self": null,
            "border": null,
            "bottom": null,
            "display": null,
            "flex": null,
            "flex_flow": null,
            "grid_area": null,
            "grid_auto_columns": null,
            "grid_auto_flow": null,
            "grid_auto_rows": null,
            "grid_column": null,
            "grid_gap": null,
            "grid_row": null,
            "grid_template_areas": null,
            "grid_template_columns": null,
            "grid_template_rows": null,
            "height": null,
            "justify_content": null,
            "justify_items": null,
            "left": null,
            "margin": null,
            "max_height": null,
            "max_width": null,
            "min_height": null,
            "min_width": null,
            "object_fit": null,
            "object_position": null,
            "order": null,
            "overflow": null,
            "overflow_x": null,
            "overflow_y": null,
            "padding": null,
            "right": null,
            "top": null,
            "visibility": null,
            "width": null
          }
        },
        "c8e1636f73064ad9817fceda279978ec": {
          "model_module": "@jupyter-widgets/controls",
          "model_name": "ProgressStyleModel",
          "model_module_version": "1.5.0",
          "state": {
            "_model_module": "@jupyter-widgets/controls",
            "_model_module_version": "1.5.0",
            "_model_name": "ProgressStyleModel",
            "_view_count": null,
            "_view_module": "@jupyter-widgets/base",
            "_view_module_version": "1.2.0",
            "_view_name": "StyleView",
            "bar_color": null,
            "description_width": ""
          }
        },
        "fed4c5c6bf0742cd84f5f2e2a28aab54": {
          "model_module": "@jupyter-widgets/base",
          "model_name": "LayoutModel",
          "model_module_version": "1.2.0",
          "state": {
            "_model_module": "@jupyter-widgets/base",
            "_model_module_version": "1.2.0",
            "_model_name": "LayoutModel",
            "_view_count": null,
            "_view_module": "@jupyter-widgets/base",
            "_view_module_version": "1.2.0",
            "_view_name": "LayoutView",
            "align_content": null,
            "align_items": null,
            "align_self": null,
            "border": null,
            "bottom": null,
            "display": null,
            "flex": null,
            "flex_flow": null,
            "grid_area": null,
            "grid_auto_columns": null,
            "grid_auto_flow": null,
            "grid_auto_rows": null,
            "grid_column": null,
            "grid_gap": null,
            "grid_row": null,
            "grid_template_areas": null,
            "grid_template_columns": null,
            "grid_template_rows": null,
            "height": null,
            "justify_content": null,
            "justify_items": null,
            "left": null,
            "margin": null,
            "max_height": null,
            "max_width": null,
            "min_height": null,
            "min_width": null,
            "object_fit": null,
            "object_position": null,
            "order": null,
            "overflow": null,
            "overflow_x": null,
            "overflow_y": null,
            "padding": null,
            "right": null,
            "top": null,
            "visibility": null,
            "width": null
          }
        },
        "727b6266340a41cdbead0b40c714480f": {
          "model_module": "@jupyter-widgets/controls",
          "model_name": "DescriptionStyleModel",
          "model_module_version": "1.5.0",
          "state": {
            "_model_module": "@jupyter-widgets/controls",
            "_model_module_version": "1.5.0",
            "_model_name": "DescriptionStyleModel",
            "_view_count": null,
            "_view_module": "@jupyter-widgets/base",
            "_view_module_version": "1.2.0",
            "_view_name": "StyleView",
            "description_width": ""
          }
        }
      }
    }
  },
  "cells": [
    {
      "cell_type": "markdown",
      "metadata": {
        "id": "view-in-github",
        "colab_type": "text"
      },
      "source": [
        "<a href=\"https://colab.research.google.com/github/Alokik-29/Project_1/blob/main/Project_1.ipynb\" target=\"_parent\"><img src=\"https://colab.research.google.com/assets/colab-badge.svg\" alt=\"Open In Colab\"/></a>"
      ]
    },
    {
      "cell_type": "code",
      "source": [
        "!pip install -q torch torchaudio transformers gradio\n"
      ],
      "metadata": {
        "id": "Xva99ipKxZvH"
      },
      "execution_count": 1,
      "outputs": []
    },
    {
      "cell_type": "code",
      "source": [
        "# Cell 1: Imports and Setup\n",
        "import os, sys, random, math\n",
        "from pathlib import Path\n",
        "import numpy as np\n",
        "import pandas as pd\n",
        "import librosa, librosa.display\n",
        "import torchaudio\n",
        "import torch\n",
        "import torch.nn as nn\n",
        "from torch.utils.data import Dataset, DataLoader\n",
        "import matplotlib.pyplot as plt\n",
        "from IPython.display import Audio, display\n",
        "from sklearn.model_selection import train_test_split\n",
        "from sklearn.metrics import accuracy_score, confusion_matrix, classification_report\n",
        "import seaborn as sns\n",
        "from transformers import ASTForAudioClassification, ASTFeatureExtractor\n",
        "import warnings\n",
        "warnings.filterwarnings('ignore')\n",
        "\n",
        "# Verbosity control\n",
        "VERBOSE = False\n",
        "def printv(*args, **kwargs):\n",
        "    if VERBOSE:\n",
        "        print(*args, **kwargs)\n",
        "\n",
        "# Reproducibility\n",
        "SEED = 42\n",
        "random.seed(SEED)\n",
        "np.random.seed(SEED)\n",
        "torch.manual_seed(SEED)\n",
        "if torch.cuda.is_available():\n",
        "    torch.cuda.manual_seed(SEED)\n",
        "\n",
        "device = torch.device(\"cuda\" if torch.cuda.is_available() else \"cpu\")\n",
        "print(f\"Using device: {device}\")\n",
        "print(f\"Librosa: {librosa.__version__} | Torchaudio: {torchaudio.__version__}\")\n",
        "\n",
        "# Matplotlib defaults\n",
        "plt.rcParams[\"figure.figsize\"] = (12, 6)\n",
        "plt.rcParams[\"axes.grid\"] = True\n"
      ],
      "metadata": {
        "colab": {
          "base_uri": "https://localhost:8080/"
        },
        "id": "M9zBM8yL_zqS",
        "outputId": "3c9b278f-7f89-4468-e63f-7faf68fb9b6b"
      },
      "execution_count": 2,
      "outputs": [
        {
          "output_type": "stream",
          "name": "stdout",
          "text": [
            "Using device: cuda\n",
            "Librosa: 0.11.0 | Torchaudio: 2.8.0+cu126\n"
          ]
        }
      ]
    },
    {
      "cell_type": "code",
      "source": [
        "import kagglehub\n",
        "import pandas as pd\n",
        "from pathlib import Path\n",
        "\n",
        "SEED = 42  # for reproducibility\n",
        "\n",
        "emotion_map = {\n",
        "    \"01\": \"neutral\", \"02\": \"calm\", \"03\": \"happy\", \"04\": \"sad\",\n",
        "    \"05\": \"angry\", \"06\": \"fearful\", \"07\": \"disgust\", \"08\": \"surprised\"\n",
        "}\n",
        "valid_labels = list(emotion_map.values())\n",
        "\n",
        "# Download RAVDESS dataset\n",
        "dataset_path = kagglehub.dataset_download(\"uwrfkaggler/ravdess-emotional-speech-audio\")\n",
        "print(\"RAVDESS downloaded.\")\n",
        "\n",
        "# Collect files and labels\n",
        "audio_files = list(Path(dataset_path).rglob(\"*.wav\"))\n",
        "labels = []\n",
        "for file in audio_files:\n",
        "    try:\n",
        "        emotion_code = file.name.split(\"-\")[2]\n",
        "        labels.append(emotion_map.get(emotion_code))\n",
        "    except Exception:\n",
        "        labels.append(None)\n",
        "\n",
        "df = pd.DataFrame({\"file_path\": audio_files, \"label\": labels})\n",
        "df = df[df['label'].isin(valid_labels)].reset_index(drop=True)\n",
        "\n",
        "print(f\"Total samples: {len(df)}\")\n",
        "print(\"Class distribution:\\n\", df['label'].value_counts())\n",
        "df = df.sample(frac=1, random_state=SEED).reset_index(drop=True)\n",
        "\n",
        "# Load CREMA-D Dataset\n",
        "print(\"\\nLoading CREMA-D dataset...\")\n",
        "crema_path = kagglehub.dataset_download(\"ejlok1/cremad\")\n",
        "\n",
        "crema_emotion_map = {\n",
        "    \"NEU\": \"neutral\", \"ANG\": \"angry\", \"DIS\": \"disgust\",\n",
        "    \"FEA\": \"fearful\", \"HAP\": \"happy\", \"SAD\": \"sad\"\n",
        "}\n",
        "\n",
        "crema_files = list(Path(crema_path).rglob(\"*.wav\"))\n",
        "crema_labels = []\n",
        "for f in crema_files:\n",
        "    code = f.name.split(\"_\")[2] if \"_\" in f.name else \"\"\n",
        "    crema_labels.append(crema_emotion_map.get(code))\n",
        "\n",
        "crema_df = pd.DataFrame({\"file_path\": crema_files, \"label\": crema_labels}).dropna().reset_index(drop=True)\n",
        "crema_df = crema_df[crema_df['label'].isin(emotion_map.values())].reset_index(drop=True)\n",
        "\n",
        "print(f\"CREMA-D samples: {len(crema_df)}\")\n",
        "print(\"CREMA-D class distribution:\\n\", crema_df['label'].value_counts())\n"
      ],
      "metadata": {
        "colab": {
          "base_uri": "https://localhost:8080/"
        },
        "id": "1Fa2BMdR_0sf",
        "outputId": "b0c4536d-d6c5-45a0-8186-46d10fee672a"
      },
      "execution_count": 3,
      "outputs": [
        {
          "output_type": "stream",
          "name": "stdout",
          "text": [
            "Using Colab cache for faster access to the 'ravdess-emotional-speech-audio' dataset.\n",
            "RAVDESS downloaded.\n",
            "Total samples: 2880\n",
            "Class distribution:\n",
            " label\n",
            "surprised    384\n",
            "disgust      384\n",
            "fearful      384\n",
            "sad          384\n",
            "happy        384\n",
            "calm         384\n",
            "angry        384\n",
            "neutral      192\n",
            "Name: count, dtype: int64\n",
            "\n",
            "Loading CREMA-D dataset...\n",
            "Downloading from https://www.kaggle.com/api/v1/datasets/download/ejlok1/cremad?dataset_version_number=1...\n"
          ]
        },
        {
          "output_type": "stream",
          "name": "stderr",
          "text": [
            "100%|██████████| 451M/451M [00:11<00:00, 40.3MB/s]"
          ]
        },
        {
          "output_type": "stream",
          "name": "stdout",
          "text": [
            "Extracting files...\n"
          ]
        },
        {
          "output_type": "stream",
          "name": "stderr",
          "text": [
            "\n"
          ]
        },
        {
          "output_type": "stream",
          "name": "stdout",
          "text": [
            "CREMA-D samples: 7442\n",
            "CREMA-D class distribution:\n",
            " label\n",
            "happy      1271\n",
            "fearful    1271\n",
            "sad        1271\n",
            "angry      1271\n",
            "disgust    1271\n",
            "neutral    1087\n",
            "Name: count, dtype: int64\n"
          ]
        }
      ]
    },
    {
      "cell_type": "code",
      "source": [
        "# Cell 3: Data Visualization\n",
        "def visualize_dataset_distribution():\n",
        "    plt.figure(figsize=(12, 5))\n",
        "\n",
        "    plt.subplot(1, 2, 1)\n",
        "    df['label'].value_counts().plot(kind='bar')\n",
        "    plt.title('RAVDESS Dataset - Emotion Distribution')\n",
        "    plt.ylabel('Count')\n",
        "    plt.xticks(rotation=45)\n",
        "\n",
        "    plt.subplot(1, 2, 2)\n",
        "    if not df.empty:\n",
        "        sample_file = df['file_path'].iloc[0]\n",
        "        sample_label = df['label'].iloc[0]\n",
        "        y, sr = librosa.load(sample_file, sr=16000)\n",
        "        librosa.display.waveshow(y, sr=sr)\n",
        "        plt.title(f\"Sample Waveform - {sample_label}\")\n",
        "\n",
        "    plt.tight_layout()\n",
        "    plt.show()\n",
        "\n",
        "visualize_dataset_distribution()\n"
      ],
      "metadata": {
        "colab": {
          "base_uri": "https://localhost:8080/",
          "height": 464
        },
        "id": "WSyeuc1K_63v",
        "outputId": "3b5e1ba0-f480-4128-e0dd-6c2fc35d908a"
      },
      "execution_count": 4,
      "outputs": [
        {
          "output_type": "display_data",
          "data": {
            "text/plain": [
              "<Figure size 1200x500 with 2 Axes>"
            ],
            "image/png": "[encoded data removed]"
          },
          "metadata": {}
        }
      ]
    },
    {
      "cell_type": "code",
      "source": [
        "# Cell 4: Audio Augmentation Functions\n",
        "def augment_audio(y, sr=16000):\n",
        "    \"\"\"Simple audio augmentation techniques\"\"\"\n",
        "    y_aug = y.copy()\n",
        "\n",
        "    # Random noise addition\n",
        "    if random.random() > 0.5:\n",
        "        noise_factor = 0.005\n",
        "        noise = np.random.normal(0, noise_factor, y_aug.shape)\n",
        "        y_aug = y_aug + noise\n",
        "\n",
        "    # Time shifting\n",
        "    if random.random() > 0.5:\n",
        "        shift_max = sr // 4  # Max shift of 0.25 seconds\n",
        "        shift = random.randint(-shift_max, shift_max)\n",
        "        y_aug = np.roll(y_aug, shift)\n",
        "\n",
        "    # Volume scaling\n",
        "    if random.random() > 0.5:\n",
        "        scale_factor = random.uniform(0.8, 1.2)\n",
        "        y_aug = y_aug * scale_factor\n",
        "\n",
        "    return y_aug.astype(np.float32)"
      ],
      "metadata": {
        "id": "0Z_OP2kfABFJ"
      },
      "execution_count": 5,
      "outputs": []
    },
    {
      "cell_type": "code",
      "source": [
        "#Cell 5: Improved Dataset Classes with Augmentation\n",
        "class ImprovedDataset(Dataset):\n",
        "    def __init__(self, df, target_sr=16000, max_length=None, augment=False):\n",
        "        self.df = df.reset_index(drop=True)\n",
        "        self.target_sr = target_sr\n",
        "        self.label_list = list(emotion_map.values())\n",
        "        self.max_length = max_length\n",
        "        self.augment = augment\n",
        "\n",
        "    def __len__(self):\n",
        "        return len(self.df)\n",
        "\n",
        "    def __getitem__(self, idx):\n",
        "        file_path = str(self.df.iloc[idx]['file_path'])\n",
        "        label = self.df.iloc[idx]['label']\n",
        "\n",
        "        if label not in self.label_list:\n",
        "            raise ValueError(f\"Invalid label found: {label}\")\n",
        "\n",
        "        try:\n",
        "            y, sr = librosa.load(file_path, sr=self.target_sr)\n",
        "            y = y.astype(np.float32)\n",
        "\n",
        "            # Apply augmentation during training\n",
        "            if self.augment:\n",
        "                y = augment_audio(y, sr=self.target_sr)\n",
        "\n",
        "            if self.max_length and len(y) > self.max_length:\n",
        "                y = y[:self.max_length]\n",
        "\n",
        "        except Exception as e:\n",
        "            printv(f\"Error loading {file_path}: {e}\")\n",
        "            y = np.zeros(self.target_sr, dtype=np.float32)\n",
        "\n",
        "        label_idx = self.label_list.index(label)\n",
        "        return y, label_idx\n"
      ],
      "metadata": {
        "id": "z4BFs2CIEJOp"
      },
      "execution_count": 6,
      "outputs": []
    },
    {
      "cell_type": "code",
      "source": [
        "# Cell 6: Improved Collate Function\n",
        "def collate_fn(batch):\n",
        "    waveforms, labels = zip(*batch)\n",
        "    waveforms = [torch.tensor(w) if not isinstance(w, torch.Tensor) else w for w in waveforms]\n",
        "    max_len = max(w.shape[0] for w in waveforms)\n",
        "    padded_waveforms = []\n",
        "    for w in waveforms:\n",
        "        if w.shape[0] < max_len:\n",
        "            padded = torch.nn.functional.pad(w, (0, max_len - w.shape[0]))\n",
        "        else:\n",
        "            padded = w\n",
        "        padded_waveforms.append(padded)\n",
        "    waveforms_tensor = torch.stack(padded_waveforms)\n",
        "    labels_tensor = torch.tensor(labels, dtype=torch.long)\n",
        "    return waveforms_tensor, labels_tensor\n"
      ],
      "metadata": {
        "id": "4_MMGCI_AFZZ"
      },
      "execution_count": 7,
      "outputs": []
    },
    {
      "cell_type": "code",
      "source": [
        "# Cell 7: Combined Dataset Preparation\n",
        "# Mix datasets for better generalization\n",
        "print(\"Creating combined training dataset...\")\n",
        "\n",
        "# Take 20% of CREMA-D samples for training\n",
        "crema_train_sample = crema_df.sample(frac=0.1, random_state=SEED).reset_index(drop=True)\n",
        "print(f\"Using {len(crema_train_sample)} CREMA-D samples for training\")\n",
        "\n",
        "# Split RAVDESS\n",
        "ravdess_train, ravdess_test = train_test_split(\n",
        "    df, test_size=0.2, random_state=SEED, stratify=df['label']\n",
        ")\n",
        "\n",
        "# Combine RAVDESS training with CREMA-D sample\n",
        "combined_train_df = pd.concat([ravdess_train, crema_train_sample]).reset_index(drop=True)\n",
        "\n",
        "# Use remaining CREMA-D for validation\n",
        "crema_val_df = crema_df.drop(crema_train_sample.index).reset_index(drop=True)\n",
        "\n",
        "print(f\"Combined training samples: {len(combined_train_df)}\")\n",
        "print(f\"RAVDESS test samples: {len(ravdess_test)}\")\n",
        "print(f\"CREMA-D validation samples: {len(crema_val_df)}\")\n",
        "\n",
        "# Create datasets with augmentation for training\n",
        "train_dataset = ImprovedDataset(combined_train_df, augment=True)\n",
        "test_dataset = ImprovedDataset(ravdess_test, augment=False)\n",
        "val_dataset = ImprovedDataset(crema_val_df, augment=False)\n",
        "\n",
        "# Data loaders (tuned for speed + stability)\n",
        "BATCH_SIZE = 16  # keep as you set; lower if you hit OOM\n",
        "COMMON_KW = dict(\n",
        "    collate_fn=collate_fn,\n",
        "    num_workers=2,              # increase to 4 if your env supports it\n",
        "    pin_memory=True,            # faster host->GPU transfers\n",
        "    persistent_workers=True,    # avoid worker re-spawns\n",
        "    prefetch_factor=2,          # small but helpful\n",
        ")\n",
        "\n",
        "train_loader = DataLoader(train_dataset, batch_size=BATCH_SIZE, shuffle=True,  **COMMON_KW)\n",
        "test_loader  = DataLoader(test_dataset,  batch_size=BATCH_SIZE, shuffle=False, **COMMON_KW)\n",
        "val_loader   = DataLoader(val_dataset,   batch_size=BATCH_SIZE, shuffle=False, **COMMON_KW)\n",
        "\n"
      ],
      "metadata": {
        "colab": {
          "base_uri": "https://localhost:8080/"
        },
        "id": "xMlnctk3AJGN",
        "outputId": "28b4ad2f-5807-47cb-f103-ff84fdc8c5a8"
      },
      "execution_count": 8,
      "outputs": [
        {
          "output_type": "stream",
          "name": "stdout",
          "text": [
            "Creating combined training dataset...\n",
            "Using 744 CREMA-D samples for training\n",
            "Combined training samples: 3048\n",
            "RAVDESS test samples: 576\n",
            "CREMA-D validation samples: 6698\n"
          ]
        }
      ]
    },
    {
      "cell_type": "code",
      "source": [
        "# Cell 8: Improved Model Setup\n",
        "def setup_improved_model():\n",
        "    \"\"\"Setup model with simpler classifier to prevent overfitting\"\"\"\n",
        "    feature_extractor = ASTFeatureExtractor.from_pretrained(\n",
        "        \"MIT/ast-finetuned-audioset-10-10-0.4593\"\n",
        "    )\n",
        "    model = ASTForAudioClassification.from_pretrained(\n",
        "        \"MIT/ast-finetuned-audioset-10-10-0.4593\"\n",
        "    )\n",
        "\n",
        "    num_labels = len(emotion_map)\n",
        "    # Simpler classifier to reduce overfitting\n",
        "    model.classifier = nn.Sequential(\n",
        "        nn.Dropout(0.5),  # Higher dropout\n",
        "        nn.Linear(model.config.hidden_size, num_labels)\n",
        "    )\n",
        "\n",
        "    model.to(device)\n",
        "    return model, feature_extractor\n",
        "\n",
        "model, feature_extractor = setup_improved_model()\n",
        "\n",
        "total_params = sum(p.numel() for p in model.parameters())\n",
        "trainable_params = sum(p.numel() for p in model.parameters() if p.requires_grad)\n",
        "print(f\"Total parameters: {total_params:,} | Trainable: {trainable_params:,}\")\n"
      ],
      "metadata": {
        "colab": {
          "base_uri": "https://localhost:8080/",
          "height": 130,
          "referenced_widgets": [
            "8c7b8145ecfe446b9181e8b9217d9551",
            "29848e75251b4d27b745838bb52ba492",
            "529e0756b8a14a179ee7b49f64e1673a",
            "e5ab817c55bc40a3b26304dbeb8f19a4",
            "a5ebc76746bc4c598baac76ff6e95502",
            "97661a09ec3d4645bf4cb428d6c001e8",
            "5ebd1fe42a644639b8af8882b779a969",
            "34ec316d0d8247e5b5c308521de3d415",
            "d307a814ce9e4b8780ae35b081652d32",
            "5f140538e1744909ba7938aed0c44c02",
            "48d39073b36e469db2927ecc9c2c1f39",
            "1b262c27b8a341a88171eb4b719838fe",
            "a47b9b0a15df48a88e0ae66dc012444c",
            "bf41f5f6139c4572a6bb31e7c760b7e0",
            "4a97d1261ade40f0be18349eb5b5a4be",
            "ffcfd126e8f44897a484c45eb3eecdc1",
            "403f4a09ac6b4eb8a2e0695719cfad11",
            "f02051529b324bdeac637b1d43c5cb7e",
            "9f1426a6146a4573a9a7f99d4213b62d",
            "31a679a3539a485f8e264b08cb1d9ea9",
            "d2ce21c88dba4eef85e817bf92bc09a0",
            "439212c67804403bb7db04001f8208a3",
            "c94ff398bee046d6b4f585068ea8bc78",
            "ed2c4ff884a8467886e1e7ed5ea88a61",
            "4d7967bda60940b6a3473a0af8bc8ed1",
            "31e4376a3bf743978e74a993b3b7b4cc",
            "cb952e40db6d44b68e91dca954258f2f",
            "2cf587603e5b4894b33ee0f79372dd68",
            "f2102882aea148c5b26f6f5bad7668d0",
            "cb8111320c81419a9e936701f434fe82",
            "c8e1636f73064ad9817fceda279978ec",
            "fed4c5c6bf0742cd84f5f2e2a28aab54",
            "727b6266340a41cdbead0b40c714480f"
          ]
        },
        "id": "IowiPXuEAVC9",
        "outputId": "479346d7-cad9-4168-a8eb-38450738acfe"
      },
      "execution_count": 9,
      "outputs": [
        {
          "output_type": "display_data",
          "data": {
            "text/plain": [
              "preprocessor_config.json:   0%|          | 0.00/297 [00:00<?, ?B/s]"
            ],
            "application/vnd.jupyter.widget-view+json": {
              "version_major": 2,
              "version_minor": 0,
              "model_id": "8c7b8145ecfe446b9181e8b9217d9551"
            }
          },
          "metadata": {}
        },
        {
          "output_type": "display_data",
          "data": {
            "text/plain": [
              "config.json: 0.00B [00:00, ?B/s]"
            ],
            "application/vnd.jupyter.widget-view+json": {
              "version_major": 2,
              "version_minor": 0,
              "model_id": "1b262c27b8a341a88171eb4b719838fe"
            }
          },
          "metadata": {}
        },
        {
          "output_type": "display_data",
          "data": {
            "text/plain": [
              "model.safetensors:   0%|          | 0.00/346M [00:00<?, ?B/s]"
            ],
            "application/vnd.jupyter.widget-view+json": {
              "version_major": 2,
              "version_minor": 0,
              "model_id": "c94ff398bee046d6b4f585068ea8bc78"
            }
          },
          "metadata": {}
        },
        {
          "output_type": "stream",
          "name": "stdout",
          "text": [
            "Total parameters: 86,193,416 | Trainable: 86,193,416\n"
          ]
        }
      ]
    },
    {
      "cell_type": "code",
      "source": [
        "# Cell 9: Improved Training Function with Early Stopping (fast + AMP)\n",
        "\n",
        "def _batch_to_inputs(waveforms):\n",
        "    \"\"\"Run feature_extractor once per batch (much faster).\"\"\"\n",
        "    with torch.no_grad():  # extractor is non-trainable\n",
        "        feats = feature_extractor(\n",
        "            [w.cpu().numpy() for w in waveforms],\n",
        "            sampling_rate=16000,\n",
        "            return_tensors=\"pt\",\n",
        "            padding=True,\n",
        "            truncation=True\n",
        "        )[\"input_values\"]\n",
        "    return feats\n",
        "\n",
        "def train_one_epoch(model, train_loader, optimizer, criterion, scaler=None):\n",
        "    model.train()\n",
        "    running_loss, correct, total = 0.0, 0, 0\n",
        "\n",
        "    for waveforms, labels in train_loader:\n",
        "        labels = labels.to(device, non_blocking=True)\n",
        "\n",
        "        inputs = _batch_to_inputs(waveforms).to(device, non_blocking=True)\n",
        "\n",
        "        optimizer.zero_grad(set_to_none=True)\n",
        "        if scaler is not None:\n",
        "            with torch.cuda.amp.autocast():\n",
        "                logits = model(inputs).logits\n",
        "                loss = criterion(logits, labels)\n",
        "            scaler.scale(loss).backward()\n",
        "            torch.nn.utils.clip_grad_norm_(model.parameters(), max_norm=1.0)\n",
        "            scaler.step(optimizer)\n",
        "            scaler.update()\n",
        "        else:\n",
        "            logits = model(inputs).logits\n",
        "            loss = criterion(logits, labels)\n",
        "            loss.backward()\n",
        "            torch.nn.utils.clip_grad_norm_(model.parameters(), max_norm=1.0)\n",
        "            optimizer.step()\n",
        "\n",
        "        running_loss += loss.item()\n",
        "        preds = logits.argmax(1)\n",
        "        total += labels.size(0)\n",
        "        correct += (preds == labels).sum().item()\n",
        "\n",
        "        # free intermediates ASAP\n",
        "        del inputs, logits, loss\n",
        "        torch.cuda.empty_cache()\n",
        "\n",
        "    epoch_loss = running_loss / len(train_loader)\n",
        "    epoch_acc = 100.0 * correct / total\n",
        "    return epoch_loss, epoch_acc\n",
        "\n",
        "@torch.no_grad()\n",
        "def evaluate_model_simple(model, data_loader):\n",
        "    \"\"\"Fast eval with batch feature extraction + no grads.\"\"\"\n",
        "    model.eval()\n",
        "    all_preds, all_labels = [], []\n",
        "\n",
        "    for waveforms, labels in data_loader:\n",
        "        labels = labels.to(device, non_blocking=True)\n",
        "        inputs = _batch_to_inputs(waveforms).to(device, non_blocking=True)\n",
        "        logits = model(inputs).logits\n",
        "        preds = torch.argmax(logits, dim=1)\n",
        "\n",
        "        all_preds.extend(preds.cpu().numpy())\n",
        "        all_labels.extend(labels.cpu().numpy())\n",
        "\n",
        "        del inputs, logits, preds\n",
        "        torch.cuda.empty_cache()\n",
        "\n",
        "    accuracy = accuracy_score(all_labels, all_preds) * 100\n",
        "    return accuracy\n",
        "\n",
        "def train_with_early_stopping(model, train_loader, val_loader, num_epochs=10, lr=5e-5):\n",
        "    criterion = nn.CrossEntropyLoss()\n",
        "    optimizer = torch.optim.AdamW(model.parameters(), lr=lr, weight_decay=1e-4)\n",
        "    scaler = torch.cuda.amp.GradScaler() if torch.cuda.is_available() else None\n",
        "\n",
        "    best_val_acc = 0.0\n",
        "    patience = 3\n",
        "    patience_counter = 0\n",
        "    history = {\"train_loss\": [], \"train_acc\": [], \"val_acc\": []}\n",
        "\n",
        "    for epoch in range(num_epochs):\n",
        "        train_loss, train_acc = train_one_epoch(model, train_loader, optimizer, criterion, scaler)\n",
        "\n",
        "        # Validate every 2 epochs (0-based: 0,2,4,...) and on last epoch\n",
        "        do_val = (epoch % 2 == 0) or (epoch == num_epochs - 1)\n",
        "        val_acc = evaluate_model_simple(model, val_loader) if do_val else best_val_acc\n",
        "\n",
        "        history[\"train_loss\"].append(train_loss)\n",
        "        history[\"train_acc\"].append(train_acc)\n",
        "        history[\"val_acc\"].append(val_acc)\n",
        "\n",
        "        print(f\"Epoch {epoch+1:2d}/{num_epochs} | Loss: {train_loss:.4f} | \"\n",
        "              f\"Train: {train_acc:.2f}% | Val: {val_acc:.2f}%\")\n",
        "\n",
        "        if val_acc > best_val_acc:\n",
        "            best_val_acc = val_acc\n",
        "            patience_counter = 0\n",
        "            torch.save(model.state_dict(), \"best_improved_model.pth\")\n",
        "        else:\n",
        "            patience_counter += 1\n",
        "\n",
        "        if patience_counter >= patience:\n",
        "            print(f\"Early stopping after {patience} epochs without improvement.\")\n",
        "            break\n",
        "\n",
        "    return history, best_val_acc\n"
      ],
      "metadata": {
        "id": "AakroeaYAX5x"
      },
      "execution_count": 10,
      "outputs": []
    },
    {
      "cell_type": "code",
      "source": [
        "# Cell 10: Train the Improved Model (fixed call + best_val_acc)\n",
        "print(\"Starting improved training...\")\n",
        "history, best_val_acc = train_with_early_stopping(\n",
        "    model, train_loader, val_loader,\n",
        "    num_epochs=15, lr=5e-5\n",
        ")\n",
        "\n",
        "# Plot training curves\n",
        "train_losses = history[\"train_loss\"]\n",
        "train_accs   = history[\"train_acc\"]\n",
        "val_accs     = history[\"val_acc\"]\n",
        "\n",
        "plt.figure(figsize=(15, 5))\n",
        "\n",
        "plt.subplot(1, 3, 1)\n",
        "plt.plot(train_losses)\n",
        "plt.title('Training Loss')\n",
        "plt.xlabel('Epoch')\n",
        "plt.ylabel('Loss')\n",
        "\n",
        "plt.subplot(1, 3, 2)\n",
        "plt.plot(train_accs, label='Training')\n",
        "plt.plot(val_accs, label='Validation')\n",
        "plt.title('Accuracy')\n",
        "plt.xlabel('Epoch')\n",
        "plt.ylabel('Accuracy (%)')\n",
        "plt.legend()\n",
        "\n",
        "plt.subplot(1, 3, 3)\n",
        "overfitting_gap = np.array(train_accs) - np.array(val_accs)\n",
        "plt.plot(overfitting_gap)\n",
        "plt.title('Overfitting Monitor (Train - Val)')\n",
        "plt.xlabel('Epoch')\n",
        "plt.ylabel('Acc Diff (%)')\n",
        "plt.axhline(y=0, color='r', linestyle='--', alpha=0.5)\n",
        "\n",
        "plt.tight_layout()\n",
        "plt.show()\n",
        "\n",
        "print(f\"Training completed. Best validation accuracy: {best_val_acc:.2f}%\")\n",
        "\n"
      ],
      "metadata": {
        "id": "eR-c9aQ9AkkH",
        "colab": {
          "base_uri": "https://localhost:8080/",
          "height": 600
        },
        "outputId": "0fb5279b-a90a-4740-ff27-b0a5772ad175"
      },
      "execution_count": 11,
      "outputs": [
        {
          "output_type": "stream",
          "name": "stdout",
          "text": [
            "Starting improved training...\n",
            "Epoch  1/15 | Loss: 1.6499 | Train: 37.04% | Val: 43.34%\n",
            "Epoch  2/15 | Loss: 1.0915 | Train: 59.42% | Val: 43.34%\n",
            "Epoch  3/15 | Loss: 0.9034 | Train: 67.39% | Val: 50.22%\n",
            "Epoch  4/15 | Loss: 0.7756 | Train: 71.59% | Val: 50.22%\n",
            "Epoch  5/15 | Loss: 0.6155 | Train: 78.05% | Val: 57.23%\n",
            "Epoch  6/15 | Loss: 0.4582 | Train: 83.96% | Val: 57.23%\n",
            "Epoch  7/15 | Loss: 0.4024 | Train: 85.86% | Val: 58.87%\n",
            "Epoch  8/15 | Loss: 0.3321 | Train: 87.86% | Val: 58.87%\n",
            "Epoch  9/15 | Loss: 0.2654 | Train: 91.01% | Val: 57.88%\n",
            "Epoch 10/15 | Loss: 0.2491 | Train: 91.54% | Val: 58.87%\n",
            "Early stopping after 3 epochs without improvement.\n"
          ]
        },
        {
          "output_type": "display_data",
          "data": {
            "text/plain": [
              "<Figure size 1500x500 with 3 Axes>"
            ],
            "image/png": "[encoded data removed]"
          },
          "metadata": {}
        },
        {
          "output_type": "stream",
          "name": "stdout",
          "text": [
            "Training completed. Best validation accuracy: 58.87%\n"
          ]
        }
      ]
    },
    {
      "cell_type": "code",
      "source": [
        "# Cell 11: Detailed Evaluation Function (fast)\n",
        "import torch\n",
        "@torch.no_grad()\n",
        "def evaluate_model_detailed(model, data_loader, dataset_name, verbose=True):\n",
        "    model.eval()\n",
        "    all_preds, all_labels = [], []\n",
        "\n",
        "    for waveforms, labels in data_loader:\n",
        "        labels = labels.to(device, non_blocking=True)\n",
        "        inputs = feature_extractor(\n",
        "            [w.cpu().numpy() for w in waveforms],\n",
        "            sampling_rate=16000,\n",
        "            return_tensors=\"pt\",\n",
        "            padding=True,\n",
        "            truncation=True\n",
        "        )[\"input_values\"].to(device, non_blocking=True)\n",
        "\n",
        "        logits = model(inputs).logits\n",
        "        preds = torch.argmax(logits, dim=1)\n",
        "\n",
        "        all_preds.extend(preds.cpu().numpy())\n",
        "        all_labels.extend(labels.cpu().numpy())\n",
        "\n",
        "        del inputs, logits, preds\n",
        "        torch.cuda.empty_cache()\n",
        "\n",
        "    accuracy = accuracy_score(all_labels, all_preds) * 100\n",
        "\n",
        "    if verbose:\n",
        "        print(f\"\\n{dataset_name} Results:\")\n",
        "        print(f\"Accuracy: {accuracy:.2f}%\")\n",
        "        label_names = list(emotion_map.values())\n",
        "        print(\"\\nClassification Report:\")\n",
        "        print(classification_report(all_labels, all_preds, target_names=label_names))\n",
        "\n",
        "        cm = confusion_matrix(all_labels, all_preds)\n",
        "        plt.figure(figsize=(10, 8))\n",
        "        sns.heatmap(cm, annot=True, fmt='d', cmap='Blues',\n",
        "                    xticklabels=label_names, yticklabels=label_names)\n",
        "        plt.title(f'{dataset_name} - Confusion Matrix')\n",
        "        plt.ylabel('True Label')\n",
        "        plt.xlabel('Predicted Label')\n",
        "        plt.show()\n",
        "\n",
        "    return accuracy\n"
      ],
      "metadata": {
        "id": "4n9SC86DArEj"
      },
      "execution_count": 12,
      "outputs": []
    },
    {
      "cell_type": "code",
      "source": [
        "# ================================\n",
        "# 📌 Cell 12: Model Evaluation & Report\n",
        "# ================================\n",
        "\n",
        "import torch\n",
        "\n",
        "# 1. Emotion mapping (must match training setup)\n",
        "emotion_map = {\n",
        "    \"01\": \"neutral\", \"02\": \"calm\", \"03\": \"happy\", \"04\": \"sad\",\n",
        "    \"05\": \"angry\", \"06\": \"fearful\", \"07\": \"disgust\", \"08\": \"surprised\"\n",
        "}\n",
        "num_classes = len(emotion_map)  # = 8\n",
        "\n",
        "# 2. Device setup\n",
        "device = torch.device(\"cuda\" if torch.cuda.is_available() else \"cpu\")\n",
        "print(f\"Using device → {device}\")\n",
        "\n",
        "# 3. Rebuild the AST model class (must match training definition)\n",
        "class ASTModel(torch.nn.Module):\n",
        "    def __init__(self, num_classes=8):\n",
        "        super(ASTModel, self).__init__()\n",
        "        from transformers import ASTModel as PretrainedAST, ASTConfig\n",
        "        config = ASTConfig.from_pretrained(\"MIT/ast-finetuned-audioset-10-10-0.4593\")\n",
        "        self.ast = PretrainedAST.from_pretrained(\"MIT/ast-finetuned-audioset-10-10-0.4593\", config=config)\n",
        "        self.dropout = torch.nn.Dropout(0.3)\n",
        "        self.fc = torch.nn.Linear(config.hidden_size, num_classes)\n",
        "\n",
        "    def forward(self, input_values):\n",
        "        outputs = self.ast(input_values).last_hidden_state\n",
        "        pooled = outputs.mean(dim=1)  # mean pooling\n",
        "        x = self.dropout(pooled)\n",
        "        return self.fc(x)\n",
        "\n",
        "# 4. Initialize model and load checkpoint\n",
        "model = ASTModel(num_classes=num_classes).to(device)\n",
        "\n",
        "checkpoint_path = \"best_model.pth\"\n",
        "try:\n",
        "    model.load_state_dict(torch.load(checkpoint_path, map_location=device))\n",
        "    print(f\"✅ Loaded model weights from {checkpoint_path}\")\n",
        "except FileNotFoundError:\n",
        "    print(\"⚠️ Warning: No saved model checkpoint found, using randomly initialized model.\")\n",
        "\n",
        "model.eval()\n",
        "\n",
        "# 5. Generate final report\n",
        "print(\"=\"*60)\n",
        "print(\"📊 EMOTION RECOGNITION MODEL - FINAL REPORT\")\n",
        "print(\"=\"*60)\n",
        "print(f\"✔️ Model Architecture: AST (Audio Spectrogram Transformer)\")\n",
        "print(f\"✔️ Number of Classes: {num_classes} ({list(emotion_map.values())})\")\n",
        "print(f\"✔️ Device Used: {device}\")\n",
        "print(\"=\"*60)\n"
      ],
      "metadata": {
        "colab": {
          "base_uri": "https://localhost:8080/"
        },
        "id": "s_ooIBAoAt95",
        "outputId": "3966d493-b657-4a86-cbdc-bbd31a8acf90"
      },
      "execution_count": 13,
      "outputs": [
        {
          "output_type": "stream",
          "name": "stdout",
          "text": [
            "Using device → cuda\n",
            "⚠️ Warning: No saved model checkpoint found, using randomly initialized model.\n",
            "============================================================\n",
            "📊 EMOTION RECOGNITION MODEL - FINAL REPORT\n",
            "============================================================\n",
            "✔️ Model Architecture: AST (Audio Spectrogram Transformer)\n",
            "✔️ Number of Classes: 8 (['neutral', 'calm', 'happy', 'sad', 'angry', 'fearful', 'disgust', 'surprised'])\n",
            "✔️ Device Used: cuda\n",
            "============================================================\n"
          ]
        }
      ]
    },
    {
      "cell_type": "code",
      "source": [
        "# Cell 13: Sample Predictions Analysis (faster)\n",
        "@torch.no_grad()\n",
        "def analyze_predictions(model, data_loader, dataset_name, num_samples=8):\n",
        "    model.eval()\n",
        "    samples_analyzed = 0\n",
        "    correct_predictions = 0\n",
        "\n",
        "    print(f\"\\n{dataset_name} - Sample Predictions:\")\n",
        "    print(\"-\" * 50)\n",
        "\n",
        "    for waveforms, labels in data_loader:\n",
        "        if samples_analyzed >= num_samples:\n",
        "            break\n",
        "\n",
        "        labels = labels.to(device)\n",
        "        take = min(waveforms.shape[0], num_samples - samples_analyzed)\n",
        "\n",
        "        inputs = feature_extractor(\n",
        "            [w.cpu().numpy() for w in waveforms[:take]],\n",
        "            sampling_rate=16000,\n",
        "            return_tensors=\"pt\",\n",
        "            padding=True,\n",
        "            truncation=True\n",
        "        )[\"input_values\"].to(device)\n",
        "\n",
        "        logits = model(inputs).logits\n",
        "        probs = torch.softmax(logits, dim=1)\n",
        "        preds = torch.argmax(logits, dim=1)\n",
        "\n",
        "        for i in range(take):\n",
        "            true_label = list(emotion_map.values())[labels[i]]\n",
        "            pred_label = list(emotion_map.values())[preds[i]]\n",
        "            confidence = probs[i][preds[i]].item()\n",
        "\n",
        "            is_correct = (true_label == pred_label)\n",
        "            if is_correct:\n",
        "                correct_predictions += 1\n",
        "\n",
        "            status = \"✓\" if is_correct else \"✗\"\n",
        "            print(f\"#{samples_analyzed + 1:2d} True: {true_label:10} | Pred: {pred_label:10} | Conf: {confidence:.3f} | {status}\")\n",
        "            samples_analyzed += 1\n",
        "\n",
        "        del inputs, logits, probs, preds\n",
        "        torch.cuda.empty_cache()\n",
        "\n",
        "    sample_accuracy = (correct_predictions / max(samples_analyzed,1)) * 100\n",
        "    print(f\"\\nSample accuracy: {correct_predictions}/{samples_analyzed} ({sample_accuracy:.1f}%)\")\n"
      ],
      "metadata": {
        "id": "YXtx_tfHAwf1"
      },
      "execution_count": 14,
      "outputs": []
    },
    {
      "cell_type": "code",
      "source": [
        "# Cell 14: Deployment Class\n",
        "from pathlib import Path\n",
        "\n",
        "class ImprovedEmotionPredictor:\n",
        "    def __init__(self, model_path, feature_extractor):\n",
        "        self.device = torch.device(\"cuda\" if torch.cuda.is_available() else \"cpu\")\n",
        "        self.feature_extractor = feature_extractor\n",
        "        self.emotion_labels = list(emotion_map.values())\n",
        "\n",
        "        # Initialize model\n",
        "        self.model = ASTForAudioClassification.from_pretrained(\n",
        "            \"MIT/ast-finetuned-audioset-10-10-0.4593\"\n",
        "        )\n",
        "        num_labels = len(emotion_map)\n",
        "        self.model.classifier = nn.Sequential(\n",
        "            nn.Dropout(0.5),\n",
        "            nn.Linear(self.model.config.hidden_size, num_labels)\n",
        "        )\n",
        "\n",
        "        # Load trained weights\n",
        "        self.model.load_state_dict(torch.load(model_path, map_location=self.device))\n",
        "        self.model.to(self.device)\n",
        "        self.model.eval()\n",
        "\n",
        "    def predict_emotion(self, audio_path_or_array, return_probabilities=False):\n",
        "        \"\"\"Predict emotion from audio file or numpy array\"\"\"\n",
        "        if isinstance(audio_path_or_array, (str, Path)):\n",
        "            y, sr = librosa.load(audio_path_or_array, sr=16000)\n",
        "        else:\n",
        "            y = audio_path_or_array\n",
        "\n",
        "        y = y.astype(np.float32)\n",
        "        inputs = self.feature_extractor(y, sampling_rate=16000, return_tensors=\"pt\")[\"input_values\"].to(self.device)\n",
        "\n",
        "        with torch.no_grad():\n",
        "            outputs = self.model(inputs).logits\n",
        "            probabilities = torch.softmax(outputs, dim=1)\n",
        "            predicted_class = torch.argmax(outputs, dim=1)\n",
        "\n",
        "        predicted_emotion = self.emotion_labels[predicted_class[0]]\n",
        "        confidence = probabilities[0][predicted_class[0]].item()\n",
        "\n",
        "        if return_probabilities:\n",
        "            all_probs = {label: prob.item() for label, prob in zip(self.emotion_labels, probabilities[0])}\n",
        "            return predicted_emotion, confidence, all_probs\n",
        "\n",
        "        return predicted_emotion, confidence\n",
        "\n",
        "    def predict_batch(self, audio_files):\n",
        "        \"\"\"Predict emotions for multiple audio files\"\"\"\n",
        "        results = []\n",
        "        for audio_file in audio_files:\n",
        "            try:\n",
        "                emotion, confidence = self.predict_emotion(audio_file)\n",
        "                results.append({\n",
        "                    'file': audio_file,\n",
        "                    'predicted_emotion': emotion,\n",
        "                    'confidence': confidence\n",
        "                })\n",
        "            except Exception as e:\n",
        "                results.append({\n",
        "                    'file': audio_file,\n",
        "                    'predicted_emotion': 'error',\n",
        "                    'confidence': 0.0,\n",
        "                    'error': str(e)\n",
        "                })\n",
        "        return results\n",
        "\n",
        "# Define the model path\n",
        "best_model_path = Path('best_improved_model.pth')\n",
        "\n",
        "# Initialize improved predictor\n",
        "if best_model_path.exists():\n",
        "    predictor = ImprovedEmotionPredictor('best_improved_model.pth', feature_extractor)\n",
        "    print(\"✅ Improved emotion predictor ready for deployment!\")\n",
        "else:\n",
        "    print(\"⚠️ Model file not found. Please train the model first.\")"
      ],
      "metadata": {
        "colab": {
          "base_uri": "https://localhost:8080/"
        },
        "id": "wSR7RFC8A0NO",
        "outputId": "5270c595-9b51-4410-cb72-0e3653a8c798"
      },
      "execution_count": 15,
      "outputs": [
        {
          "output_type": "stream",
          "name": "stdout",
          "text": [
            "✅ Improved emotion predictor ready for deployment!\n"
          ]
        }
      ]
    },
    {
      "cell_type": "code",
      "source": [
        "# Cell 15: Final Report\n",
        "def generate_improved_model_report():\n",
        "    print(\"=\"*70)\n",
        "    print(\"IMPROVED EMOTION RECOGNITION MODEL - FINAL REPORT\")\n",
        "    print(\"=\"*70)\n",
        "\n",
        "    print(\"\\n🔧 IMPROVEMENTS MADE:\")\n",
        "    print(\"  • Added audio augmentation (noise, time shift, volume)\")\n",
        "    print(\"  • Mixed RAVDESS + CREMA-D for training\")\n",
        "    print(\"  • Reduced learning rate (1e-4 → 5e-5)\")\n",
        "    print(\"  • Simplified classifier architecture\")\n",
        "    print(\"  • Added early stopping (patience=5)\")\n",
        "    print(\"  • Added gradient clipping\")\n",
        "    print(\"  • Increased dropout (0.3 → 0.5)\")\n",
        "\n",
        "    print(\"\\n📋 MODEL ARCHITECTURE:\")\n",
        "    print(\"  • Base Model: Audio Spectrogram Transformer (AST)\")\n",
        "    print(\"  • Pre-trained on: AudioSet\")\n",
        "\n",
        "    if 'emotion_map' in globals():\n",
        "        print(f\"  • Fine-tuned for: {len(emotion_map)} emotion classes\")\n",
        "    else:\n",
        "        print(\"  • Fine-tuned for: 8 emotion classes\")\n",
        "\n",
        "    if 'model' in globals():\n",
        "        print(f\"  • Total Parameters: {sum(p.numel() for p in model.parameters()):,}\")\n",
        "        print(f\"  • Trainable Parameters: {sum(p.numel() for p in model.parameters() if p.requires_grad):,}\")\n",
        "    else:\n",
        "        print(\"  • Model parameters: Not available (model not loaded)\")\n",
        "\n",
        "    print(\"\\n📊 TRAINING DATA:\")\n",
        "    if 'combined_train_df' in globals():\n",
        "        print(f\"  • RAVDESS Training: {len(combined_train_df)} samples\")\n",
        "    if 'ravdess_test' in globals():\n",
        "        print(f\"  • RAVDESS Test: {len(ravdess_test)} samples\")\n",
        "    if 'crema_val_df' in globals():\n",
        "        print(f\"  • CREMA-D Validation: {len(crema_val_df)} samples\")\n",
        "    if 'emotion_map' in globals():\n",
        "        print(f\"  • Emotion Classes: {', '.join(emotion_map.values())}\")\n",
        "    else:\n",
        "        print(\"  • Emotion Classes: neutral, calm, happy, sad, angry, fearful, disgust, surprised\")\n",
        "\n",
        "    print(\"\\n🏆 PERFORMANCE RESULTS:\")\n",
        "    if 'ravdess_acc' in globals():\n",
        "        print(f\"  • RAVDESS Test Accuracy: {ravdess_acc:.2f}%\")\n",
        "    else:\n",
        "        print(\"  • RAVDESS Test Accuracy: Not yet evaluated\")\n",
        "\n",
        "    if 'crema_acc' in globals():\n",
        "        print(f\"  • CREMA-D Validation Accuracy: {crema_acc:.2f}%\")\n",
        "        if 'ravdess_acc' in globals():\n",
        "            print(f\"  • Generalization Gap: {ravdess_acc - crema_acc:.2f}%\")\n",
        "    else:\n",
        "        print(\"  • CREMA-D Validation Accuracy: Not yet evaluated\")\n",
        "\n",
        "    print(\"\\n⚡ KEY FEATURES:\")\n",
        "    print(\"  • Cross-dataset training for better generalization\")\n",
        "    print(\"  • Audio augmentation for robustness\")\n",
        "    print(\"  • Early stopping to prevent overfitting\")\n",
        "    print(\"  • Deployment-ready predictor class\")\n",
        "\n",
        "    print(\"=\"*70)\n",
        "\n",
        "# Generate the final report\n",
        "generate_improved_model_report()\n",
        "\n",
        "print(\"\\n🎉 IMPROVED MODEL TRAINING COMPLETE!\")\n",
        "print(\"Your model is now ready for deployment and should show better generalization!\")"
      ],
      "metadata": {
        "id": "ippmqwE6A0ox",
        "colab": {
          "base_uri": "https://localhost:8080/"
        },
        "outputId": "c206f1b0-ea38-4312-eddf-5c045a6b784c"
      },
      "execution_count": 16,
      "outputs": [
        {
          "output_type": "stream",
          "name": "stdout",
          "text": [
            "======================================================================\n",
            "IMPROVED EMOTION RECOGNITION MODEL - FINAL REPORT\n",
            "======================================================================\n",
            "\n",
            "🔧 IMPROVEMENTS MADE:\n",
            "  • Added audio augmentation (noise, time shift, volume)\n",
            "  • Mixed RAVDESS + CREMA-D for training\n",
            "  • Reduced learning rate (1e-4 → 5e-5)\n",
            "  • Simplified classifier architecture\n",
            "  • Added early stopping (patience=5)\n",
            "  • Added gradient clipping\n",
            "  • Increased dropout (0.3 → 0.5)\n",
            "\n",
            "📋 MODEL ARCHITECTURE:\n",
            "  • Base Model: Audio Spectrogram Transformer (AST)\n",
            "  • Pre-trained on: AudioSet\n",
            "  • Fine-tuned for: 8 emotion classes\n",
            "  • Total Parameters: 86,193,416\n",
            "  • Trainable Parameters: 86,193,416\n",
            "\n",
            "📊 TRAINING DATA:\n",
            "  • RAVDESS Training: 3048 samples\n",
            "  • RAVDESS Test: 576 samples\n",
            "  • CREMA-D Validation: 6698 samples\n",
            "  • Emotion Classes: neutral, calm, happy, sad, angry, fearful, disgust, surprised\n",
            "\n",
            "🏆 PERFORMANCE RESULTS:\n",
            "  • RAVDESS Test Accuracy: Not yet evaluated\n",
            "  • CREMA-D Validation Accuracy: Not yet evaluated\n",
            "\n",
            "⚡ KEY FEATURES:\n",
            "  • Cross-dataset training for better generalization\n",
            "  • Audio augmentation for robustness\n",
            "  • Early stopping to prevent overfitting\n",
            "  • Deployment-ready predictor class\n",
            "======================================================================\n",
            "\n",
            "🎉 IMPROVED MODEL TRAINING COMPLETE!\n",
            "Your model is now ready for deployment and should show better generalization!\n"
          ]
        }
      ]
    },
    {
      "cell_type": "code",
      "source": [
        "!ls -lh | grep model\n"
      ],
      "metadata": {
        "colab": {
          "base_uri": "https://localhost:8080/"
        },
        "id": "3b7wRhDeYlxM",
        "outputId": "36f8b0b9-e9fa-4174-85e5-5cdc9ad6f057"
      },
      "execution_count": 17,
      "outputs": [
        {
          "output_type": "stream",
          "name": "stdout",
          "text": [
            "-rw-r--r-- 1 root root 329M Oct 26 14:58 best_improved_model.pth\n"
          ]
        }
      ]
    },
    {
      "cell_type": "code",
      "source": [
        "import joblib\n",
        "feature_extractor.save_pretrained(\"saved_feature_extractor\")\n",
        "joblib.dump(emotion_map, \"emotion_map.pkl\")\n"
      ],
      "metadata": {
        "colab": {
          "base_uri": "https://localhost:8080/"
        },
        "id": "PenxMb8MGuk6",
        "outputId": "64a4bc76-d947-48c7-a667-db1c861f0c28"
      },
      "execution_count": 18,
      "outputs": [
        {
          "output_type": "execute_result",
          "data": {
            "text/plain": [
              "['emotion_map.pkl']"
            ]
          },
          "metadata": {},
          "execution_count": 18
        }
      ]
    },
    {
      "cell_type": "code",
      "source": [
        "import numpy as np\n",
        "import soundfile as sf\n",
        "\n",
        "# Generate 2 seconds of a high-pitched sine wave (like an \"angry\" tone)\n",
        "sr = 16000\n",
        "t = np.linspace(0, 2, int(2 * sr), False)\n",
        "y = 0.5 * np.sin(2 * np.pi * 500 * t)  # 500Hz tone\n",
        "\n",
        "sf.write(\"test_angry.wav\", y, sr)\n",
        "print(\"✅ test_angry.wav created!\")\n",
        "\n",
        "# Now test your model\n",
        "pred, conf = predictor.predict_emotion(\"test_angry.wav\")\n",
        "print(f\"Predicted Emotion: {pred} ({conf:.2f} confidence)\")\n"
      ],
      "metadata": {
        "colab": {
          "base_uri": "https://localhost:8080/"
        },
        "id": "W2fMRiusGzCU",
        "outputId": "89d2af4f-1656-41a6-a626-0e7d3a9a7d93"
      },
      "execution_count": 19,
      "outputs": [
        {
          "output_type": "stream",
          "name": "stdout",
          "text": [
            "✅ test_angry.wav created!\n",
            "Predicted Emotion: happy (0.48 confidence)\n"
          ]
        }
      ]
    },
    {
      "cell_type": "code",
      "source": [
        "#Save the Model and Metadata\n",
        "import torch\n",
        "\n",
        "# Save model weights\n",
        "torch.save(model.state_dict(), \"emotion_model.pth\")\n",
        "\n",
        "# Save model architecture info (optional)\n",
        "torch.save({\n",
        "    'model_state_dict': model.state_dict(),\n",
        "    'model_architecture': model.__class__.__name__,\n",
        "}, \"emotion_model_full.pth\")\n"
      ],
      "metadata": {
        "id": "lzZ_NeOiHG9_"
      },
      "execution_count": 20,
      "outputs": []
    },
    {
      "cell_type": "code",
      "source": [
        "\n",
        "import joblib\n",
        "import torch\n",
        "\n",
        "# Save final improved model weights\n",
        "torch.save(predictor.model.state_dict(), \"best_improved_model.pth\")\n",
        "\n",
        "# Save your emotion label mapping\n",
        "emotion_map = {\n",
        "    \"01\": \"neutral\", \"02\": \"calm\", \"03\": \"happy\", \"04\": \"sad\",\n",
        "    \"05\": \"angry\", \"06\": \"fearful\", \"07\": \"disgust\", \"08\": \"surprised\"\n",
        "}\n",
        "joblib.dump(emotion_map, \"emotion_map.pkl\")\n",
        "\n",
        "print(\"✅ Model and label map saved successfully!\")\n"
      ],
      "metadata": {
        "colab": {
          "base_uri": "https://localhost:8080/"
        },
        "id": "WW1yaGfiHX6w",
        "outputId": "ac93063a-7a81-4f2a-95e4-9d661403e3a3"
      },
      "execution_count": 22,
      "outputs": [
        {
          "output_type": "stream",
          "name": "stdout",
          "text": [
            "✅ Model and label map saved successfully!\n"
          ]
        }
      ]
    },
    {
      "cell_type": "code",
      "source": [
        "from transformers import ASTFeatureExtractor\n",
        "feature_extractor = ASTFeatureExtractor.from_pretrained(\"MIT/ast-finetuned-audioset-10-10-0.4593\")\n",
        "\n",
        "# Reload your improved predictor\n",
        "predictor = ImprovedEmotionPredictor(\"best_improved_model.pth\", feature_extractor)\n",
        "print(\"✅ Model reloaded successfully for deployment!\")\n"
      ],
      "metadata": {
        "colab": {
          "base_uri": "https://localhost:8080/"
        },
        "id": "xubPT2pAHcfa",
        "outputId": "cf3fae27-e7ed-4be5-f1fd-5426581fc658"
      },
      "execution_count": 23,
      "outputs": [
        {
          "output_type": "stream",
          "name": "stdout",
          "text": [
            "✅ Model reloaded successfully for deployment!\n"
          ]
        }
      ]
    },
    {
      "cell_type": "code",
      "source": [
        "import os\n",
        "\n",
        "# Create folder\n",
        "os.makedirs(\"emotion_gradio_app\", exist_ok=True)\n",
        "\n",
        "# Check folder\n",
        "!ls -lh\n"
      ],
      "metadata": {
        "colab": {
          "base_uri": "https://localhost:8080/"
        },
        "id": "t6zePugVNFWo",
        "outputId": "6c5d816d-7095-4fd9-8b8e-4e685d37a54f"
      },
      "execution_count": 25,
      "outputs": [
        {
          "output_type": "stream",
          "name": "stdout",
          "text": [
            "total 11G\n",
            "-rw-r--r-- 1 root root 329M Oct 26 15:25 best_improved_model.pth\n",
            "drwxr-xr-x 2 root root 4.0K Oct 26 15:47 emotion_gradio_app\n",
            "-rw-r--r-- 1 root root  127 Oct 26 15:25 emotion_map.pkl\n",
            "-rw-r--r-- 1 root root 9.6G Oct 26 15:33 emotion_model_backup.zip\n",
            "-rw-r--r-- 1 root root 329M Oct 26 15:22 emotion_model_full.pth\n",
            "-rw-r--r-- 1 root root 329M Oct 26 15:22 emotion_model.pth\n",
            "drwxr-xr-x 1 root root 4.0K Oct 23 13:40 sample_data\n",
            "drwxr-xr-x 2 root root 4.0K Oct 26 15:20 saved_feature_extractor\n",
            "-rw-r--r-- 1 root root  63K Oct 26 15:21 test_angry.wav\n"
          ]
        }
      ]
    },
    {
      "cell_type": "code",
      "source": [
        "app_code = \"\"\"\n",
        "import gradio as gr\n",
        "import torch\n",
        "import librosa\n",
        "import numpy as np\n",
        "import joblib\n",
        "from pathlib import Path\n",
        "from transformers import ASTFeatureExtractor\n",
        "import torch.nn as nn\n",
        "from transformers import ASTForAudioClassification\n",
        "\n",
        "# Load label map and feature extractor\n",
        "emotion_map = joblib.load(\"emotion_map.pkl\")\n",
        "feature_extractor = ASTFeatureExtractor.from_pretrained(\"MIT/ast-finetuned-audioset-10-10-0.4593\")\n",
        "\n",
        "# Predictor class\n",
        "class ImprovedEmotionPredictor:\n",
        "    def __init__(self, model_path, feature_extractor):\n",
        "        self.device = torch.device(\"cuda\" if torch.cuda.is_available() else \"cpu\")\n",
        "        self.feature_extractor = feature_extractor\n",
        "        self.emotion_labels = list(emotion_map.values())\n",
        "\n",
        "        self.model = ASTForAudioClassification.from_pretrained(\n",
        "            \"MIT/ast-finetuned-audioset-10-10-0.4593\"\n",
        "        )\n",
        "        num_labels = len(emotion_map)\n",
        "        self.model.classifier = nn.Sequential(\n",
        "            nn.Dropout(0.5),\n",
        "            nn.Linear(self.model.config.hidden_size, num_labels)\n",
        "        )\n",
        "\n",
        "        self.model.load_state_dict(torch.load(model_path, map_location=self.device))\n",
        "        self.model.to(self.device)\n",
        "        self.model.eval()\n",
        "\n",
        "    def predict_emotion(self, audio_path_or_array):\n",
        "        if isinstance(audio_path_or_array, (str, Path)):\n",
        "            y, sr = librosa.load(audio_path_or_array, sr=16000)\n",
        "        else:\n",
        "            y = audio_path_or_array\n",
        "        y = y.astype(np.float32)\n",
        "        inputs = self.feature_extractor(y, sampling_rate=16000, return_tensors=\"pt\")[\"input_values\"].to(self.device)\n",
        "        with torch.no_grad():\n",
        "            outputs = self.model(inputs).logits\n",
        "            probabilities = torch.softmax(outputs, dim=1)\n",
        "            predicted_class = torch.argmax(outputs, dim=1)\n",
        "        predicted_emotion = self.emotion_labels[predicted_class[0]]\n",
        "        confidence = probabilities[0][predicted_class[0]].item()\n",
        "        return f\"{predicted_emotion} ({confidence:.2f})\"\n",
        "\n",
        "# Initialize predictor\n",
        "predictor = ImprovedEmotionPredictor(\"best_improved_model.pth\", feature_extractor)\n",
        "\n",
        "# Gradio interface\n",
        "demo = gr.Interface(\n",
        "    fn=predictor.predict_emotion,\n",
        "    inputs=gr.Audio(source=\"upload\", type=\"filepath\"),\n",
        "    outputs=\"text\",\n",
        "    title=\"🎤 AST Audio Emotion Recognition\",\n",
        "    description=\"Upload a .wav audio clip and detect the emotion from tone of voice.\"\n",
        ")\n",
        "\n",
        "demo.launch()\n",
        "\"\"\"\n",
        "\n",
        "# Save app.py\n",
        "with open(\"emotion_gradio_app/app.py\", \"w\") as f:\n",
        "    f.write(app_code)\n",
        "\n",
        "print(\"✅ app.py created in emotion_gradio_app folder\")\n"
      ],
      "metadata": {
        "colab": {
          "base_uri": "https://localhost:8080/"
        },
        "id": "bduPqbVQNFzb",
        "outputId": "02af4f99-a17d-4c51-f6b2-91ff23062b82"
      },
      "execution_count": 26,
      "outputs": [
        {
          "output_type": "stream",
          "name": "stdout",
          "text": [
            "✅ app.py created in emotion_gradio_app folder\n"
          ]
        }
      ]
    },
    {
      "cell_type": "code",
      "source": [
        "requirements = \"\"\"\n",
        "torch\n",
        "torchaudio\n",
        "transformers\n",
        "librosa\n",
        "gradio\n",
        "numpy\n",
        "joblib\n",
        "\"\"\"\n",
        "\n",
        "with open(\"emotion_gradio_app/requirements.txt\", \"w\") as f:\n",
        "    f.write(requirements)\n",
        "\n",
        "print(\"✅ requirements.txt created\")\n"
      ],
      "metadata": {
        "colab": {
          "base_uri": "https://localhost:8080/"
        },
        "id": "dX_qInbNNp-q",
        "outputId": "015c2610-38d0-4be4-8f9f-000b789c44bc"
      },
      "execution_count": 27,
      "outputs": [
        {
          "output_type": "stream",
          "name": "stdout",
          "text": [
            "✅ requirements.txt created\n"
          ]
        }
      ]
    },
    {
      "cell_type": "code",
      "source": [
        "import shutil\n",
        "\n",
        "# Paths to your current files (adjust if needed)\n",
        "model_src = \"best_improved_model.pth\"\n",
        "label_src = \"emotion_map.pkl\"\n",
        "\n",
        "# Destination folder\n",
        "dest_folder = \"emotion_gradio_app\"\n",
        "\n",
        "# Copy files\n",
        "shutil.copy(model_src, dest_folder)\n",
        "shutil.copy(label_src, dest_folder)\n",
        "\n",
        "# List files in the folder to verify\n",
        "!ls -lh emotion_gradio_app\n"
      ],
      "metadata": {
        "colab": {
          "base_uri": "https://localhost:8080/"
        },
        "id": "xwn3wVsqNs7l",
        "outputId": "85e110ec-274c-40f8-b14a-12a7840279d8"
      },
      "execution_count": 28,
      "outputs": [
        {
          "output_type": "stream",
          "name": "stdout",
          "text": [
            "total 329M\n",
            "-rw-r--r-- 1 root root 2.3K Oct 26 15:50 app.py\n",
            "-rw-r--r-- 1 root root 329M Oct 26 15:51 best_improved_model.pth\n",
            "-rw-r--r-- 1 root root  127 Oct 26 15:51 emotion_map.pkl\n",
            "-rw-r--r-- 1 root root   59 Oct 26 15:50 requirements.txt\n"
          ]
        }
      ]
    },
    {
      "cell_type": "code",
      "source": [
        "import gradio as gr\n",
        "\n",
        "# Initialize your predictor here if not already done\n",
        "# predictor = ImprovedEmotionPredictor(\"best_improved_model.pth\", feature_extractor)\n",
        "\n",
        "def predict(audio_path):\n",
        "    emotion, confidence = predictor.predict_emotion(audio_path)\n",
        "    return f\"{emotion} ({confidence:.2f})\"\n",
        "\n",
        "with gr.Blocks() as demo:\n",
        "    audio_input = gr.Audio(label=\"Upload Audio\", type=\"filepath\")  # remove 'source'\n",
        "    output_text = gr.Textbox(label=\"Predicted Emotion\")\n",
        "\n",
        "    audio_input.change(fn=predict, inputs=audio_input, outputs=output_text)\n",
        "\n",
        "demo.launch()\n"
      ],
      "metadata": {
        "colab": {
          "base_uri": "https://localhost:8080/",
          "height": 646
        },
        "id": "96MIN_3IN1F3",
        "outputId": "9da81d79-c3d7-4c26-cc33-3931a2abdf33"
      },
      "execution_count": 1,
      "outputs": [
        {
          "output_type": "stream",
          "name": "stdout",
          "text": [
            "It looks like you are running Gradio on a hosted Jupyter notebook, which requires `share=True`. Automatically setting `share=True` (you can turn this off by setting `share=False` in `launch()` explicitly).\n",
            "\n",
            "Colab notebook detected. To show errors in colab notebook, set debug=True in launch()\n",
            "* Running on public URL: https://98ca1859bc599abe42.gradio.live\n",
            "\n",
            "This share link expires in 1 week. For free permanent hosting and GPU upgrades, run `gradio deploy` from the terminal in the working directory to deploy to Hugging Face Spaces (https://huggingface.co/spaces)\n"
          ]
        },
        {
          "output_type": "display_data",
          "data": {
            "text/plain": [
              "<IPython.core.display.HTML object>"
            ],
            "text/html": [
              "<div><iframe src=\"https://98ca1859bc599abe42.gradio.live\" width=\"100%\" height=\"500\" allow=\"autoplay; camera; microphone; clipboard-read; clipboard-write;\" frameborder=\"0\" allowfullscreen></iframe></div>"
            ]
          },
          "metadata": {}
        },
        {
          "output_type": "execute_result",
          "data": {
            "text/plain": []
          },
          "metadata": {},
          "execution_count": 1
        }
      ]
    },
    {
      "cell_type": "code",
      "source": [
        "# Save app.py (if you edited it in Colab)\n",
        "with open(\"app.py\", \"w\") as f:\n",
        "    f.write(app_code)  # replace app_code with the string containing your fixed code\n"
      ],
      "metadata": {
        "colab": {
          "base_uri": "https://localhost:8080/",
          "height": 176
        },
        "id": "QMVo4YH3hMAT",
        "outputId": "5fbda896-af43-49b4-9531-bad67975b898"
      },
      "execution_count": 3,
      "outputs": [
        {
          "output_type": "error",
          "ename": "NameError",
          "evalue": "name 'app_code' is not defined",
          "traceback": [
            "\u001b[0;31m---------------------------------------------------------------------------\u001b[0m",
            "\u001b[0;31mNameError\u001b[0m                                 Traceback (most recent call last)",
            "\u001b[0;32m/tmp/ipython-input-694492703.py\u001b[0m in \u001b[0;36m<cell line: 0>\u001b[0;34m()\u001b[0m\n\u001b[1;32m      1\u001b[0m \u001b[0;31m# Save app.py (if you edited it in Colab)\u001b[0m\u001b[0;34m\u001b[0m\u001b[0;34m\u001b[0m\u001b[0m\n\u001b[1;32m      2\u001b[0m \u001b[0;32mwith\u001b[0m \u001b[0mopen\u001b[0m\u001b[0;34m(\u001b[0m\u001b[0;34m\"app.py\"\u001b[0m\u001b[0;34m,\u001b[0m \u001b[0;34m\"w\"\u001b[0m\u001b[0;34m)\u001b[0m \u001b[0;32mas\u001b[0m \u001b[0mf\u001b[0m\u001b[0;34m:\u001b[0m\u001b[0;34m\u001b[0m\u001b[0;34m\u001b[0m\u001b[0m\n\u001b[0;32m----> 3\u001b[0;31m     \u001b[0mf\u001b[0m\u001b[0;34m.\u001b[0m\u001b[0mwrite\u001b[0m\u001b[0;34m(\u001b[0m\u001b[0mapp_code\u001b[0m\u001b[0;34m)\u001b[0m  \u001b[0;31m# replace app_code with the string containing your fixed code\u001b[0m\u001b[0;34m\u001b[0m\u001b[0;34m\u001b[0m\u001b[0m\n\u001b[0m",
            "\u001b[0;31mNameError\u001b[0m: name 'app_code' is not defined"
          ]
        }
      ]
    },
    {
      "cell_type": "code",
      "source": [
        "gradio>=3.44\n",
        "torch\n",
        "torchaudio\n",
        "transformers\n",
        "librosa\n",
        "numpy\n",
        "joblib\n"
      ],
      "metadata": {
        "colab": {
          "base_uri": "https://localhost:8080/",
          "height": 211
        },
        "id": "xTUJ4HQug5iF",
        "outputId": "8b5e4677-1c2a-458b-97c7-0d59c990f01f"
      },
      "execution_count": 2,
      "outputs": [
        {
          "output_type": "error",
          "ename": "NameError",
          "evalue": "name 'gradio' is not defined",
          "traceback": [
            "\u001b[0;31m---------------------------------------------------------------------------\u001b[0m",
            "\u001b[0;31mNameError\u001b[0m                                 Traceback (most recent call last)",
            "\u001b[0;32m/tmp/ipython-input-1314144821.py\u001b[0m in \u001b[0;36m<cell line: 0>\u001b[0;34m()\u001b[0m\n\u001b[0;32m----> 1\u001b[0;31m \u001b[0mgradio\u001b[0m\u001b[0;34m>=\u001b[0m\u001b[0;36m3.44\u001b[0m\u001b[0;34m\u001b[0m\u001b[0;34m\u001b[0m\u001b[0m\n\u001b[0m\u001b[1;32m      2\u001b[0m \u001b[0mtorch\u001b[0m\u001b[0;34m\u001b[0m\u001b[0;34m\u001b[0m\u001b[0m\n\u001b[1;32m      3\u001b[0m \u001b[0mtorchaudio\u001b[0m\u001b[0;34m\u001b[0m\u001b[0;34m\u001b[0m\u001b[0m\n\u001b[1;32m      4\u001b[0m \u001b[0mtransformers\u001b[0m\u001b[0;34m\u001b[0m\u001b[0;34m\u001b[0m\u001b[0m\n\u001b[1;32m      5\u001b[0m \u001b[0mlibrosa\u001b[0m\u001b[0;34m\u001b[0m\u001b[0;34m\u001b[0m\u001b[0m\n",
            "\u001b[0;31mNameError\u001b[0m: name 'gradio' is not defined"
          ]
        }
      ]
    },
    {
      "cell_type": "code",
      "source": [],
      "metadata": {
        "id": "JSWMhix8hFaC"
      },
      "execution_count": null,
      "outputs": []
    }
  ]
}